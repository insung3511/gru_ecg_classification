{
 "cells": [
  {
   "cell_type": "code",
   "execution_count": 1,
   "metadata": {},
   "outputs": [],
   "source": [
    "import numpy as np\n",
    "import itertools\n",
    "import pickle\n",
    "\n",
    "from sklearn.model_selection import train_test_split\n",
    "from sklearn import preprocessing\n",
    "\n",
    "from tensorflow.keras import layers\n",
    "from tensorflow import keras\n",
    "import tensorflow as tf\n",
    "\n",
    "EPOCH = 200\n",
    "KERNEL_SIZE = 3\n",
    "POOLING_SIZE = 2\n",
    "BATCH_SIZE = 10\n",
    "\n",
    "DATA_PATH = \"./mit_data/\"\n",
    "\n",
    "def list_to_list(input_list):\n",
    "    input_list_to_list = list(itertools.chain(*input_list))\n",
    "    return input_list_to_list"
   ]
  },
  {
   "cell_type": "code",
   "execution_count": 2,
   "metadata": {},
   "outputs": [
    {
     "name": "stdout",
     "output_type": "stream",
     "text": [
      "[INFO] Read records file from  ./mit_data/\n",
      "[SIZE]\t\tX length : 75441\n",
      "\t\ty length : 75441\n",
      "[SIZE]\t\tX_test length : 37158\n",
      "\t\ty_test length : 37158\n",
      "[SIZE]\t\tNpX lenght : (75441, 428)\n",
      "\t\tNpY length : (75441, 1)\n",
      "[SIZE]\t\tX_test length : (37158, 428)\n",
      "\t\ty_test length : (37158, 1)\n"
     ]
    }
   ],
   "source": [
    "# Dataload part\n",
    "le = preprocessing.LabelEncoder()\n",
    "\n",
    "record_list = []\n",
    "pickle_input = dict()\n",
    "X, y = [], []\n",
    "\n",
    "print(\"[INFO] Read records file from \", DATA_PATH)\n",
    "with open(DATA_PATH + 'RECORDS') as f:\n",
    "    record_lines = f.readlines()\n",
    "\n",
    "for i in range(len(record_lines)):\n",
    "    record_list.append(str(record_lines[i].strip()))\n",
    "\n",
    "for i in range(len(record_list)):\n",
    "    temp_path = DATA_PATH + \"mit\" + record_list[i] + \".pkl\"\n",
    "    with open(temp_path, 'rb') as f:\n",
    "        pickle_input = pickle.load(f)\n",
    "        for i in range(len(pickle_input[0])):\n",
    "            X.append(pickle_input[0][i])\n",
    "\n",
    "        for i in range(len(pickle_input[1])):\n",
    "            check_ann = pickle_input[1][i]\n",
    "            temp_ann_list = list()\n",
    "            if check_ann == \"N\":            # Normal\n",
    "                temp_ann_list.append(0)\n",
    "\n",
    "            elif check_ann == \"S\":          # Supra-ventricular\n",
    "                temp_ann_list.append(1)\n",
    "\n",
    "            elif check_ann == \"V\":          # Ventricular\n",
    "                temp_ann_list.append(2)\n",
    "\n",
    "            elif check_ann == \"F\":          # False alarm\n",
    "                temp_ann_list.append(3)\n",
    "\n",
    "            else:                           # Unclassed \n",
    "                temp_ann_list.append(4)\n",
    "            y.append(temp_ann_list)\n",
    "\n",
    "X, X_test, y, y_test = train_test_split(X, y, test_size=0.33, random_state=42, shuffle=True)\n",
    "\n",
    "print(\"[SIZE]\\t\\tX length : {}\\n\\t\\ty length : {}\".format(len(X), len(y)))\n",
    "print(\"[SIZE]\\t\\tX_test length : {}\\n\\t\\ty_test length : {}\".format(len(X_test), len(y_test)))\n",
    "\n",
    "npx = np.array(X)\n",
    "npy = np.array(y)\n",
    "npx_test = np.array(X_test)\n",
    "npy_test = np.array(y_test)\n",
    "\n",
    "print(\"[SIZE]\\t\\tNpX lenght : {}\\n\\t\\tNpY length : {}\".format(npx.shape, npy.shape))\n",
    "print(\"[SIZE]\\t\\tX_test length : {}\\n\\t\\ty_test length : {}\".format(npx_test.shape, npy_test.shape))"
   ]
  },
  {
   "cell_type": "code",
   "execution_count": 3,
   "metadata": {},
   "outputs": [],
   "source": [
    "X = tf.cast(tf.constant(X), dtype=tf.float32)\n",
    "# y = tf.cast(tf.constant(y), dtype=tf.string)\n",
    "X_test = tf.cast(tf.constant(X_test), dtype=tf.float32)\n",
    "# y_test = tf.cast(tf.constant(y_test), dtype=tf.string)"
   ]
  },
  {
   "cell_type": "code",
   "execution_count": 4,
   "metadata": {},
   "outputs": [
    {
     "name": "stdout",
     "output_type": "stream",
     "text": [
      "(75441, 428)\n"
     ]
    }
   ],
   "source": [
    "print(npx.shape)"
   ]
  },
  {
   "cell_type": "code",
   "execution_count": 5,
   "metadata": {},
   "outputs": [
    {
     "name": "stdout",
     "output_type": "stream",
     "text": [
      "KerasTensor(type_spec=TensorSpec(shape=(None, 428), dtype=tf.float32, name='input_1'), name='input_1', description=\"created by layer 'input_1'\")\n"
     ]
    }
   ],
   "source": [
    "X_np = np.array(X)\n",
    "\n",
    "input_size = layers.Input(shape=(428, ))\n",
    "print(input_size)"
   ]
  },
  {
   "cell_type": "code",
   "execution_count": 6,
   "metadata": {},
   "outputs": [],
   "source": [
    "X_np = np.array(X)\n",
    "y_np = np.array(y)\n",
    "\n",
    "tf.random.set_seed(42)\n",
    "input_size = layers.Input(shape=X_np.shape)"
   ]
  },
  {
   "cell_type": "code",
   "execution_count": 7,
   "metadata": {},
   "outputs": [],
   "source": [
    "\n",
    "# lefms = keras.Sequential([\n",
    "#     layers.Conv1D(428, 32, padding='same', input_shape=input_size),\n",
    "#     layers.BatchNormalization(),\n",
    "#     layers.Activation(keras.activations.relu),\n",
    "\n",
    "#     layers.Conv1D(186, 32, padding='same', input_shape=input_size),\n",
    "#     layers.Conv1D(186, 32, padding='same', input_shape=input_size),\n",
    "#     layers.BatchNormalization(32),\n",
    "#     layers.Activation(keras.activations.relu),\n",
    "#     layers.MaxPool2D(pool_size=(93, 32)),\n",
    "    \n",
    "#     layers.Conv1D(93, 32, padding='same', input_shape=input_size),\n",
    "#     layers.Conv1D(93, 64, padding='same', input_shape=input_size),\n",
    "#     layers.BatchNormalization(64),\n",
    "#     layers.Activation(keras.activations.relu),\n",
    "#     layers.MaxPool2D(pool_size=(47, 64)),\n",
    "    \n",
    "#     layers.Conv1D(47, 64, padding='same', input_shape=input_size),\n",
    "#     layers.Conv1D(47, 64, padding='same', input_shape=input_size),\n",
    "#     layers.BatchNormalization(64),\n",
    "#     layers.Activation(keras.activations.relu),\n",
    "#     layers.MaxPool2D(pool_size=(24, 128)),\n",
    "    \n",
    "#     layers.Conv1D(12, 128, padding='same', input_shape=input_size),\n",
    "#     layers.Conv1D(12, 128, padding='same', input_shape=input_size),\n",
    "#     layers.BatchNormalization(128),\n",
    "#     layers.Activation(keras.activations.relu),\n",
    "#     layers.MaxPool2D(pool_size=(12, 128)),\n",
    "    \n",
    "#     layers.Conv1D(6, 256, padding='same', input_shape=input_size),\n",
    "#     layers.Conv1D(6, 256, padding='same', input_shape=input_size),\n",
    "#     layers.BatchNormalization(256),\n",
    "#     layers.Activation(keras.activations.relu),\n",
    "#     layers.MaxPool2D(pool_size=(6, 256)),\n",
    "    \n",
    "#     layers.Conv1D(6, 256, padding='same', input_shape=input_size),\n",
    "#     layers.Conv1D(6, 256, padding='same', input_shape=input_size),\n",
    "#     layers.BatchNormalization(256),\n",
    "#     layers.Activation(keras.activations.relu),\n",
    "#     layers.MaxPool2D(pool_size=(3, 256)),\n",
    "\n",
    "#     layers.Dropout(1),\n",
    "#     layers.GRU(768, input_shape=input_size),\n",
    "#     layers.Dense(96),\n",
    "#     layers.Softmax(axis=5)\n",
    "# ])\n",
    "\n",
    "lefms = keras.Sequential([\n",
    "    layers.Conv1D(428, 32, padding='same'),\n",
    "    layers.BatchNormalization(),\n",
    "    layers.Activation(keras.activations.relu),\n",
    "\n",
    "    layers.Conv1D(186, 32, padding='same'),\n",
    "    layers.Conv1D(186, 32, padding='same'),\n",
    "    layers.BatchNormalization(32),\n",
    "    layers.Activation(keras.activations.relu),\n",
    "    layers.MaxPool2D(pool_size=(93, 32)),\n",
    "    \n",
    "    layers.Conv1D(93, 32, padding='same'),\n",
    "    layers.Conv1D(93, 64, padding='same'),\n",
    "    layers.BatchNormalization(64),\n",
    "    layers.Activation(keras.activations.relu),\n",
    "    layers.MaxPool2D(pool_size=(47, 64)),\n",
    "    \n",
    "    layers.Conv1D(47, 64, padding='same'),\n",
    "    layers.Conv1D(47, 64, padding='same'),\n",
    "    layers.BatchNormalization(64),\n",
    "    layers.Activation(keras.activations.relu),\n",
    "    layers.MaxPool2D(pool_size=(24, 128)),\n",
    "    \n",
    "    layers.Conv1D(12, 128, padding='same'),\n",
    "    layers.Conv1D(12, 128, padding='same'),\n",
    "    layers.BatchNormalization(128),\n",
    "    layers.Activation(keras.activations.relu),\n",
    "    layers.MaxPool2D(pool_size=(12, 128)),\n",
    "    \n",
    "    layers.Conv1D(6, 256, padding='same'),\n",
    "    layers.Conv1D(6, 256, padding='same'),\n",
    "    layers.BatchNormalization(256),\n",
    "    layers.Activation(keras.activations.relu),\n",
    "    layers.MaxPool2D(pool_size=(6, 256)),\n",
    "    \n",
    "    layers.Conv1D(6, 256, padding='same'),\n",
    "    layers.Conv1D(6, 256, padding='same'),\n",
    "    layers.BatchNormalization(256),\n",
    "    layers.Activation(keras.activations.relu),\n",
    "    layers.MaxPool2D(pool_size=(3, 256)),\n",
    "\n",
    "    layers.Dropout(1),\n",
    "    layers.GRU(768),\n",
    "    layers.Dense(96),\n",
    "    layers.Softmax(axis=5)\n",
    "])"
   ]
  },
  {
   "cell_type": "code",
   "execution_count": 8,
   "metadata": {},
   "outputs": [],
   "source": [
    "lefms.compile(\n",
    "        optimizer='adam',\n",
    "        loss='categorical_crossentropy',\n",
    "        metrics=['accuracy']\n",
    ")"
   ]
  },
  {
   "cell_type": "code",
   "execution_count": 9,
   "metadata": {},
   "outputs": [
    {
     "name": "stdout",
     "output_type": "stream",
     "text": [
      "tf.Tensor(\n",
      "[[0. 0. 0. ... 0. 0. 0.]\n",
      " [0. 0. 0. ... 0. 0. 0.]\n",
      " [0. 0. 0. ... 0. 0. 0.]\n",
      " ...\n",
      " [0. 0. 0. ... 0. 0. 0.]\n",
      " [0. 0. 0. ... 0. 0. 0.]\n",
      " [0. 0. 0. ... 0. 0. 0.]], shape=(75441, 428), dtype=float32)\n",
      "tf.Tensor(\n",
      "[[0]\n",
      " [4]\n",
      " [0]\n",
      " ...\n",
      " [0]\n",
      " [0]\n",
      " [4]], shape=(75441, 1), dtype=int32)\n"
     ]
    }
   ],
   "source": [
    "X_np = tf.convert_to_tensor(X_np)\n",
    "print(X_np)\n",
    "\n",
    "y_np = tf.convert_to_tensor(y_np)\n",
    "print(y_np)"
   ]
  },
  {
   "cell_type": "code",
   "execution_count": 10,
   "metadata": {},
   "outputs": [
    {
     "name": "stdout",
     "output_type": "stream",
     "text": [
      "Epoch 1/200\n"
     ]
    },
    {
     "ename": "ValueError",
     "evalue": "in user code:\n\n    File \"c:\\Users\\HILAB_Labtop_02\\anaconda3\\lib\\site-packages\\keras\\engine\\training.py\", line 1051, in train_function  *\n        return step_function(self, iterator)\n    File \"c:\\Users\\HILAB_Labtop_02\\anaconda3\\lib\\site-packages\\keras\\engine\\training.py\", line 1040, in step_function  **\n        outputs = model.distribute_strategy.run(run_step, args=(data,))\n    File \"c:\\Users\\HILAB_Labtop_02\\anaconda3\\lib\\site-packages\\keras\\engine\\training.py\", line 1030, in run_step  **\n        outputs = model.train_step(data)\n    File \"c:\\Users\\HILAB_Labtop_02\\anaconda3\\lib\\site-packages\\keras\\engine\\training.py\", line 889, in train_step\n        y_pred = self(x, training=True)\n    File \"c:\\Users\\HILAB_Labtop_02\\anaconda3\\lib\\site-packages\\keras\\utils\\traceback_utils.py\", line 67, in error_handler\n        raise e.with_traceback(filtered_tb) from None\n    File \"c:\\Users\\HILAB_Labtop_02\\anaconda3\\lib\\site-packages\\keras\\engine\\input_spec.py\", line 228, in assert_input_compatibility\n        raise ValueError(f'Input {input_index} of layer \"{layer_name}\" '\n\n    ValueError: Exception encountered when calling layer \"sequential\" (type Sequential).\n    \n    Input 0 of layer \"conv1d\" is incompatible with the layer: expected min_ndim=3, found ndim=2. Full shape received: (None, 428)\n    \n    Call arguments received by layer \"sequential\" (type Sequential):\n      • inputs=tf.Tensor(shape=(None, 428), dtype=float32)\n      • training=True\n      • mask=None\n",
     "output_type": "error",
     "traceback": [
      "\u001b[1;31m---------------------------------------------------------------------------\u001b[0m",
      "\u001b[1;31mValueError\u001b[0m                                Traceback (most recent call last)",
      "\u001b[1;32mC:\\Users\\HILAB_~1\\AppData\\Local\\Temp/ipykernel_9204/2140057237.py\u001b[0m in \u001b[0;36m<module>\u001b[1;34m\u001b[0m\n\u001b[1;32m----> 1\u001b[1;33m \u001b[0mlefms\u001b[0m\u001b[1;33m.\u001b[0m\u001b[0mfit\u001b[0m\u001b[1;33m(\u001b[0m\u001b[0mX_np\u001b[0m\u001b[1;33m,\u001b[0m \u001b[0my_np\u001b[0m\u001b[1;33m,\u001b[0m \u001b[0mbatch_size\u001b[0m\u001b[1;33m=\u001b[0m\u001b[0mBATCH_SIZE\u001b[0m\u001b[1;33m,\u001b[0m \u001b[0mepochs\u001b[0m\u001b[1;33m=\u001b[0m\u001b[0mEPOCH\u001b[0m\u001b[1;33m)\u001b[0m\u001b[1;33m\u001b[0m\u001b[1;33m\u001b[0m\u001b[0m\n\u001b[0m",
      "\u001b[1;32mc:\\Users\\HILAB_Labtop_02\\anaconda3\\lib\\site-packages\\keras\\utils\\traceback_utils.py\u001b[0m in \u001b[0;36merror_handler\u001b[1;34m(*args, **kwargs)\u001b[0m\n\u001b[0;32m     65\u001b[0m     \u001b[1;32mexcept\u001b[0m \u001b[0mException\u001b[0m \u001b[1;32mas\u001b[0m \u001b[0me\u001b[0m\u001b[1;33m:\u001b[0m  \u001b[1;31m# pylint: disable=broad-except\u001b[0m\u001b[1;33m\u001b[0m\u001b[1;33m\u001b[0m\u001b[0m\n\u001b[0;32m     66\u001b[0m       \u001b[0mfiltered_tb\u001b[0m \u001b[1;33m=\u001b[0m \u001b[0m_process_traceback_frames\u001b[0m\u001b[1;33m(\u001b[0m\u001b[0me\u001b[0m\u001b[1;33m.\u001b[0m\u001b[0m__traceback__\u001b[0m\u001b[1;33m)\u001b[0m\u001b[1;33m\u001b[0m\u001b[1;33m\u001b[0m\u001b[0m\n\u001b[1;32m---> 67\u001b[1;33m       \u001b[1;32mraise\u001b[0m \u001b[0me\u001b[0m\u001b[1;33m.\u001b[0m\u001b[0mwith_traceback\u001b[0m\u001b[1;33m(\u001b[0m\u001b[0mfiltered_tb\u001b[0m\u001b[1;33m)\u001b[0m \u001b[1;32mfrom\u001b[0m \u001b[1;32mNone\u001b[0m\u001b[1;33m\u001b[0m\u001b[1;33m\u001b[0m\u001b[0m\n\u001b[0m\u001b[0;32m     68\u001b[0m     \u001b[1;32mfinally\u001b[0m\u001b[1;33m:\u001b[0m\u001b[1;33m\u001b[0m\u001b[1;33m\u001b[0m\u001b[0m\n\u001b[0;32m     69\u001b[0m       \u001b[1;32mdel\u001b[0m \u001b[0mfiltered_tb\u001b[0m\u001b[1;33m\u001b[0m\u001b[1;33m\u001b[0m\u001b[0m\n",
      "\u001b[1;32mc:\\Users\\HILAB_Labtop_02\\anaconda3\\lib\\site-packages\\keras\\engine\\training.py\u001b[0m in \u001b[0;36mtf__train_function\u001b[1;34m(iterator)\u001b[0m\n\u001b[0;32m     13\u001b[0m                 \u001b[1;32mtry\u001b[0m\u001b[1;33m:\u001b[0m\u001b[1;33m\u001b[0m\u001b[1;33m\u001b[0m\u001b[0m\n\u001b[0;32m     14\u001b[0m                     \u001b[0mdo_return\u001b[0m \u001b[1;33m=\u001b[0m \u001b[1;32mTrue\u001b[0m\u001b[1;33m\u001b[0m\u001b[1;33m\u001b[0m\u001b[0m\n\u001b[1;32m---> 15\u001b[1;33m                     \u001b[0mretval_\u001b[0m \u001b[1;33m=\u001b[0m \u001b[0mag__\u001b[0m\u001b[1;33m.\u001b[0m\u001b[0mconverted_call\u001b[0m\u001b[1;33m(\u001b[0m\u001b[0mag__\u001b[0m\u001b[1;33m.\u001b[0m\u001b[0mld\u001b[0m\u001b[1;33m(\u001b[0m\u001b[0mstep_function\u001b[0m\u001b[1;33m)\u001b[0m\u001b[1;33m,\u001b[0m \u001b[1;33m(\u001b[0m\u001b[0mag__\u001b[0m\u001b[1;33m.\u001b[0m\u001b[0mld\u001b[0m\u001b[1;33m(\u001b[0m\u001b[0mself\u001b[0m\u001b[1;33m)\u001b[0m\u001b[1;33m,\u001b[0m \u001b[0mag__\u001b[0m\u001b[1;33m.\u001b[0m\u001b[0mld\u001b[0m\u001b[1;33m(\u001b[0m\u001b[0miterator\u001b[0m\u001b[1;33m)\u001b[0m\u001b[1;33m)\u001b[0m\u001b[1;33m,\u001b[0m \u001b[1;32mNone\u001b[0m\u001b[1;33m,\u001b[0m \u001b[0mfscope\u001b[0m\u001b[1;33m)\u001b[0m\u001b[1;33m\u001b[0m\u001b[1;33m\u001b[0m\u001b[0m\n\u001b[0m\u001b[0;32m     16\u001b[0m                 \u001b[1;32mexcept\u001b[0m\u001b[1;33m:\u001b[0m\u001b[1;33m\u001b[0m\u001b[1;33m\u001b[0m\u001b[0m\n\u001b[0;32m     17\u001b[0m                     \u001b[0mdo_return\u001b[0m \u001b[1;33m=\u001b[0m \u001b[1;32mFalse\u001b[0m\u001b[1;33m\u001b[0m\u001b[1;33m\u001b[0m\u001b[0m\n",
      "\u001b[1;31mValueError\u001b[0m: in user code:\n\n    File \"c:\\Users\\HILAB_Labtop_02\\anaconda3\\lib\\site-packages\\keras\\engine\\training.py\", line 1051, in train_function  *\n        return step_function(self, iterator)\n    File \"c:\\Users\\HILAB_Labtop_02\\anaconda3\\lib\\site-packages\\keras\\engine\\training.py\", line 1040, in step_function  **\n        outputs = model.distribute_strategy.run(run_step, args=(data,))\n    File \"c:\\Users\\HILAB_Labtop_02\\anaconda3\\lib\\site-packages\\keras\\engine\\training.py\", line 1030, in run_step  **\n        outputs = model.train_step(data)\n    File \"c:\\Users\\HILAB_Labtop_02\\anaconda3\\lib\\site-packages\\keras\\engine\\training.py\", line 889, in train_step\n        y_pred = self(x, training=True)\n    File \"c:\\Users\\HILAB_Labtop_02\\anaconda3\\lib\\site-packages\\keras\\utils\\traceback_utils.py\", line 67, in error_handler\n        raise e.with_traceback(filtered_tb) from None\n    File \"c:\\Users\\HILAB_Labtop_02\\anaconda3\\lib\\site-packages\\keras\\engine\\input_spec.py\", line 228, in assert_input_compatibility\n        raise ValueError(f'Input {input_index} of layer \"{layer_name}\" '\n\n    ValueError: Exception encountered when calling layer \"sequential\" (type Sequential).\n    \n    Input 0 of layer \"conv1d\" is incompatible with the layer: expected min_ndim=3, found ndim=2. Full shape received: (None, 428)\n    \n    Call arguments received by layer \"sequential\" (type Sequential):\n      • inputs=tf.Tensor(shape=(None, 428), dtype=float32)\n      • training=True\n      • mask=None\n"
     ]
    }
   ],
   "source": [
    "lefms.fit(tf.expand_dims(X_np), y_np, batch_size=BATCH_SIZE, epochs=EPOCH)"
   ]
  }
 ],
 "metadata": {
  "interpreter": {
   "hash": "6c3cabcf2f29820bdd7faae982b59d335e0d215fb5382d93f3312fa3292e9b7f"
  },
  "kernelspec": {
   "display_name": "Python 3.9.7 ('base')",
   "language": "python",
   "name": "python3"
  },
  "language_info": {
   "codemirror_mode": {
    "name": "ipython",
    "version": 3
   },
   "file_extension": ".py",
   "mimetype": "text/x-python",
   "name": "python",
   "nbconvert_exporter": "python",
   "pygments_lexer": "ipython3",
   "version": "3.9.7"
  },
  "orig_nbformat": 4
 },
 "nbformat": 4,
 "nbformat_minor": 2
}
