{
 "cells": [
  {
   "cell_type": "code",
   "execution_count": 1,
   "metadata": {},
   "outputs": [],
   "source": [
    "# 그래픽 카드 둘로 쓰기 (두개 있을때, 하나만 있다면 0)\n",
    "# gpu idx 를 0 또는 1 로 설정하시오\n",
    "import os\n",
    "os.environ[\"CUDA_DEVICE_ORDER\"]=\"PCI_BUS_ID\"\n",
    "os.environ[\"CUDA_VISIBLE_DEVICES\"]=\"{}\".format(1) # gpu idx"
   ]
  },
  {
   "cell_type": "code",
   "execution_count": 2,
   "metadata": {},
   "outputs": [],
   "source": [
    "# 경로에 폴더가 없으면 폴더 만들기\n",
    "import os\n",
    "\n",
    "def createDirectory(directory):\n",
    "    try:\n",
    "        if not os.path.exists(directory):\n",
    "            os.makedirs(directory)\n",
    "    except OSError:\n",
    "        print(\"Error: Failed to create the directory.\")"
   ]
  },
  {
   "cell_type": "code",
   "execution_count": 3,
   "metadata": {},
   "outputs": [],
   "source": [
    "import numpy as np\n",
    "import itertools\n",
    "import pickle\n",
    "\n",
    "from sklearn.model_selection import train_test_split\n",
    "from sklearn import preprocessing\n",
    "\n",
    "from tensorflow.keras import layers\n",
    "from tensorflow import keras\n",
    "import tensorflow as tf\n",
    "from tqdm import tqdm\n",
    "\n",
    "EPOCH = 200\n",
    "KERNEL_SIZE = 3\n",
    "POOLING_SIZE = 2\n",
    "BATCH_SIZE = 128\n",
    "\n",
    "DATA_PATH = \"./mit_data/\"\n",
    "\n",
    "def list_to_list(input_list):\n",
    "    input_list_to_list = list(itertools.chain(*input_list))\n",
    "    return input_list_to_list"
   ]
  },
  {
   "cell_type": "markdown",
   "metadata": {},
   "source": [
    "# 데이터 불러오기"
   ]
  },
  {
   "cell_type": "code",
   "execution_count": 4,
   "metadata": {},
   "outputs": [
    {
     "name": "stdout",
     "output_type": "stream",
     "text": [
      "[INFO] Read records file from  ./pickle_mat/\n"
     ]
    },
    {
     "name": "stderr",
     "output_type": "stream",
     "text": [
      "100%|██████████| 48/48 [00:00<00:00, 58.13it/s]\n"
     ]
    },
    {
     "name": "stdout",
     "output_type": "stream",
     "text": [
      "X_train shape:  (30690, 428, 1)\n",
      "Y_trainshape:  (30690, 5)\n",
      "──────────────────────────\n",
      "X_test shape:  (8659, 428, 1)\n",
      "Y_test shape:  (8659, 5)\n",
      "──────────────────────────\n",
      "0    1    2    3    4  \n",
      "1.0  0.0  0.0  0.0  0.0    10000\n",
      "0.0  0.0  0.0  1.0  0.0     8241\n",
      "               0.0  1.0     8039\n",
      "          1.0  0.0  0.0     7234\n",
      "     1.0  0.0  0.0  0.0     5835\n",
      "dtype: int64\n"
     ]
    }
   ],
   "source": [
    "from sklearn.model_selection import train_test_split\n",
    "from sklearn.preprocessing import LabelEncoder\n",
    "\n",
    "from tensorflow.keras.utils import to_categorical\n",
    "from tqdm import tqdm\n",
    "import pandas as pd\n",
    "import numpy as np\n",
    "import random\n",
    "import pickle\n",
    "import os\n",
    "\n",
    "DATA_PATH = \"./pickle_mat/\"\n",
    "print(\"[INFO] Read records file from \", DATA_PATH)\n",
    "with open(DATA_PATH + 'RECORDS') as f:\n",
    "    record_lines = f.readlines()\n",
    "\n",
    "rList = []\n",
    "for i in range(len(record_lines)):\n",
    "    rList.append(str(record_lines[i].strip()))\n",
    "\n",
    "path = './pickle_mat/'\n",
    "pickle_input = dict()\n",
    "X, y = [], []\n",
    "\n",
    "sigN, sigV, sigS, sigF, sigQ = [], [], [], [], []\n",
    "annN, annV, annS, annF, annQ = [], [], [], [], []\n",
    "\n",
    "for i in tqdm(range(len(rList))):\n",
    "    temp_path = path + \"mitPssigP_\" + rList[i] + \".pkl\"\n",
    "    with open(temp_path, 'rb') as f:\n",
    "        pickle_input = pickle.load(f)\n",
    "\n",
    "        for i in range(len(pickle_input[0])):\n",
    "            check_ann = pickle_input[1][i]\n",
    "    \n",
    "            if check_ann == \"N\":\n",
    "                sigN.append(pickle_input[0][i])\n",
    "                annN.append(0)\n",
    "\n",
    "            elif check_ann == \"S\":\n",
    "                sigS.append(pickle_input[0][i])\n",
    "                annS.append(1)\n",
    "\n",
    "            elif check_ann == \"V\":\n",
    "                sigV.append(pickle_input[0][i])\n",
    "                annV.append(2)\n",
    "\n",
    "            elif check_ann == \"F\":\n",
    "                sigF.append(pickle_input[0][i])\n",
    "                annF.append(3)\n",
    "\n",
    "            elif check_ann == \"Q\":\n",
    "                sigQ.append(pickle_input[0][i])\n",
    "                annQ.append(4)\n",
    "        \n",
    "            else:\n",
    "                pass\n",
    "\n",
    "sigN_np = np.array(sigN)\n",
    "annN_np = np.array(annN)\n",
    "\n",
    "sigS_np = np.array(sigS)\n",
    "annS_np = np.array(annS)\n",
    "\n",
    "sigV_np = np.array(sigV)\n",
    "annV_np = np.array(annV)\n",
    "\n",
    "sigF_np = np.array(sigF)\n",
    "annF_np = np.array(annF)\n",
    "\n",
    "sigQ_np = np.array(sigQ)\n",
    "annQ_np = np.array(sigQ)\n",
    "\n",
    "sigN_ran = random.sample(sigN, 10000)\n",
    "annN_ran = random.sample(annN, 10000)\n",
    "sigN_np = np.array(sigN_ran)\n",
    "annN_np = np.array(annN_ran)\n",
    "\n",
    "Xtr_N, Xte_N, Ytr_N, Yte_N = train_test_split(sigN_np, annN_np, test_size=0.3, random_state=42, shuffle=True)\n",
    "Xtr_S, Xte_S, Ytr_S, Yte_S = train_test_split(sigS_np, annS_np, test_size=0.3, random_state=42, shuffle=True)\n",
    "Xtr_V, Xte_V, Ytr_V, Yte_V = train_test_split(sigV_np, annV_np, test_size=0.3, random_state=42, shuffle=True)\n",
    "Xtr_F, Xte_F, Ytr_F, Yte_F = train_test_split(sigF_np, annF_np, test_size=0.3, random_state=42, shuffle=True)\n",
    "Xtr_Q, Xte_Q, Ytr_Q, Yte_Q = train_test_split(sigQ_np, annQ_np, test_size=0.3, random_state=42, shuffle=True)\n",
    "\n",
    "sigS_ran, annS_ran, sigF_ran, annF_ran =[],[],[],[]\n",
    "\n",
    "sigS_ran.append(random.choices(Xtr_S, k=5000))\n",
    "annS_ran.append(random.choices(Ytr_S, k=5000))\n",
    "sigF_ran.append(random.choices(Xtr_F, k=8000))\n",
    "annF_ran.append(random.choices(Ytr_F, k=8000))\n",
    "\n",
    "Xtr_S = np.array(sigS_ran)\n",
    "Xtr_S = Xtr_S[0][:][:]\n",
    "\n",
    "Ytr_S = np.array(annS_ran)\n",
    "Ytr_S = Ytr_S[0][:][:]\n",
    "\n",
    "Xtr_F = np.array(sigF_ran)\n",
    "Xtr_F = Xtr_F[0][:][:]\n",
    "\n",
    "Ytr_F = np.array(annF_ran)\n",
    "Ytr_F = Xtr_F[0][:][:]\n",
    "\n",
    "dfList = ['S','V','F','Q']\n",
    "\n",
    "Xtr = pd.DataFrame(data=Xtr_N)\n",
    "\n",
    "for dfName in dfList:\n",
    "    df = pd.DataFrame(data=globals()[\"Xtr_{}\".format(dfName)])\n",
    "    Xtr= pd.concat([Xtr,df], axis=0)\n",
    "    \n",
    "Xte = pd.DataFrame(data=Xte_N)\n",
    "\n",
    "for dfName in dfList:\n",
    "    df = pd.DataFrame(data=globals()[\"Xte_{}\".format(dfName)])\n",
    "    Xte = pd.concat([Xte,df], axis=0)\n",
    "    \n",
    "Ytr, Yte = [],[]\n",
    "\n",
    "for i in range(0,7000):\n",
    "    Ytr.append(0)\n",
    "\n",
    "for i in range(0,5000):\n",
    "    Ytr.append(1) \n",
    "\n",
    "for i in range(0,5063):\n",
    "    Ytr.append(2)\n",
    "\n",
    "for i in range(0,8000):\n",
    "    Ytr.append(3)\n",
    "\n",
    "for i in range(0,5627):\n",
    "    Ytr.append(4)\n",
    "\n",
    "Ytr = np.array(Ytr)\n",
    "Ytr = pd.DataFrame(data=Ytr)\n",
    "\n",
    "for i in range(0,3000):\n",
    "    Yte.append(0)\n",
    "\n",
    "for i in range(0,835):\n",
    "    Yte.append(1) \n",
    "\n",
    "for i in range(0,2171):\n",
    "    Yte.append(2)\n",
    "\n",
    "for i in range(0,241):\n",
    "    Yte.append(3)\n",
    "\n",
    "for i in range(0,2412):\n",
    "    Yte.append(4)\n",
    "\n",
    "Yte = np.array(Yte)\n",
    "Yte = pd.DataFrame(data=Yte)\n",
    "\n",
    "X_train = np.array(Xtr[list(range(428))].values)[..., np.newaxis]\n",
    "Y_train = np.array(Ytr[0].values).astype(np.int8)\n",
    "X_val = np.array(Xte[list(range(428))].values)[..., np.newaxis]\n",
    "Y_val = np.array(Yte[0].values).astype(np.int8)\n",
    "\n",
    "oneHot = LabelEncoder()\n",
    "oneHot.fit(Y_train)\n",
    "oneHot.fit(Y_val)\n",
    "Y_train = oneHot.transform(Y_train)\n",
    "Y_val = oneHot.transform(Y_val)\n",
    "\n",
    "X_train = X_train.reshape(-1, 428, 1)\n",
    "X_val = X_val.reshape(-1, 428, 1)\n",
    "Y_train = to_categorical(Y_train, 5)\n",
    "Y_val = to_categorical(Y_val, 5)\n",
    "                       \n",
    "Ytr = pd.DataFrame(data=Y_train)\n",
    "Yte = pd.DataFrame(data=Y_val)\n",
    "dfY = pd.concat([Ytr,Yte], axis=0)\n",
    "\n",
    "print(\"X_train shape: \", X_train.shape)\n",
    "print(\"Y_trainshape: \", Y_train.shape)\n",
    "print(\"──────────────────────────\")\n",
    "print(\"X_test shape: \", X_val.shape)\n",
    "print(\"Y_test shape: \", Y_val.shape)\n",
    "print(\"──────────────────────────\")\n",
    "print(dfY.value_counts())"
   ]
  },
  {
   "cell_type": "code",
   "execution_count": 5,
   "metadata": {},
   "outputs": [],
   "source": [
    "# # 데이터 갯수 파악\n",
    "# # N, S, V, F, Q\n",
    "# uni, cnt = np.unique(y, return_counts=True)\n",
    "# print(uni, cnt)"
   ]
  },
  {
   "cell_type": "markdown",
   "metadata": {},
   "source": [
    "# 데이터 split"
   ]
  },
  {
   "cell_type": "code",
   "execution_count": 6,
   "metadata": {},
   "outputs": [
    {
     "name": "stdout",
     "output_type": "stream",
     "text": [
      "[SIZE]\t\tNpX lenght : (30690, 428, 1)\n",
      "\t\tNpY length : (30690, 5)\n",
      "[SIZE]\t\tX_validation length : (2858, 428, 1)\n",
      "\t\ty_validation length : (2858, 5)\n",
      "[SIZE]\t\tX_test length : (5801, 428, 1)\n",
      "\t\ty_test length : (5801, 5)\n"
     ]
    }
   ],
   "source": [
    "# X_train, X_test, y_train, y_test = train_test_split(X, y, test_size=0.33, random_state=42, shuffle=True)\n",
    "\n",
    "X_test, X_val, y_test, y_val = train_test_split(X_val, Y_val, test_size=0.33, random_state=42, shuffle=True )\n",
    "\n",
    "npx = np.array(X_train)\n",
    "npy = np.array(Y_train)\n",
    "npx_vali = np.array(X_val)\n",
    "npy_vali = np.array(y_val)\n",
    "npx_test = np.array(X_test)\n",
    "npy_test = np.array(y_test)\n",
    "\n",
    "print(\"[SIZE]\\t\\tNpX lenght : {}\\n\\t\\tNpY length : {}\".format(npx.shape, npy.shape))\n",
    "print(\"[SIZE]\\t\\tX_validation length : {}\\n\\t\\ty_validation length : {}\".format(npx_vali.shape, npy_vali.shape))\n",
    "print(\"[SIZE]\\t\\tX_test length : {}\\n\\t\\ty_test length : {}\".format(npx_test.shape, npy_test.shape))"
   ]
  },
  {
   "cell_type": "code",
   "execution_count": 7,
   "metadata": {},
   "outputs": [
    {
     "name": "stdout",
     "output_type": "stream",
     "text": [
      "[0. 1.] [122760  30690]\n"
     ]
    }
   ],
   "source": [
    "uni, cnt = np.unique(npy, return_counts=True)\n",
    "print(uni, cnt)"
   ]
  },
  {
   "cell_type": "code",
   "execution_count": 8,
   "metadata": {},
   "outputs": [
    {
     "name": "stdout",
     "output_type": "stream",
     "text": [
      "[0. 1.] [11432  2858]\n"
     ]
    }
   ],
   "source": [
    "uni, cnt = np.unique(npy_vali, return_counts=True)\n",
    "print(uni, cnt)"
   ]
  },
  {
   "cell_type": "code",
   "execution_count": 9,
   "metadata": {},
   "outputs": [
    {
     "name": "stdout",
     "output_type": "stream",
     "text": [
      "[0. 1.] [23204  5801]\n"
     ]
    }
   ],
   "source": [
    "uni, cnt = np.unique(npy_test, return_counts=True)\n",
    "print(uni, cnt)"
   ]
  },
  {
   "cell_type": "code",
   "execution_count": 10,
   "metadata": {},
   "outputs": [
    {
     "data": {
      "image/png": "[encoded data removed]",
      "text/plain": [
       "<Figure size 2160x864 with 16 Axes>"
      ]
     },
     "metadata": {
      "needs_background": "light"
     },
     "output_type": "display_data"
    }
   ],
   "source": [
    "# 랜덤으로 뽑아서 뿌려보기\n",
    "\n",
    "import matplotlib.pyplot as plt\n",
    "import random\n",
    "%matplotlib inline\n",
    "\n",
    "plt.figure(figsize=(30, 12))\n",
    "plt.suptitle(\"random pal, per PAL\", fontsize=18)\n",
    "n = 0\n",
    "random.seed(11)\n",
    "for i in random.sample(range(6480), 16):\n",
    "    ax = plt.subplot(5, 5, n+1)\n",
    "    plt.plot(npx[i])\n",
    "    ax.set_title(str(npy[i]))\n",
    "    n+=1"
   ]
  },
  {
   "cell_type": "markdown",
   "metadata": {},
   "source": [
    "# 모델 생성"
   ]
  },
  {
   "cell_type": "code",
   "execution_count": 11,
   "metadata": {},
   "outputs": [
    {
     "name": "stderr",
     "output_type": "stream",
     "text": [
      "2022-06-28 10:59:01.976903: I tensorflow/core/common_runtime/pluggable_device/pluggable_device_factory.cc:305] Could not identify NUMA node of platform GPU ID 0, defaulting to 0. Your kernel may not have been built with NUMA support.\n",
      "2022-06-28 10:59:01.977046: I tensorflow/core/common_runtime/pluggable_device/pluggable_device_factory.cc:271] Created TensorFlow device (/job:localhost/replica:0/task:0/device:GPU:0 with 0 MB memory) -> physical PluggableDevice (device: 0, name: METAL, pci bus id: <undefined>)\n"
     ]
    },
    {
     "name": "stdout",
     "output_type": "stream",
     "text": [
      "Metal device set to: Apple M1\n",
      "\n",
      "systemMemory: 16.00 GB\n",
      "maxCacheSize: 5.33 GB\n",
      "\n"
     ]
    }
   ],
   "source": [
    "lefms = keras.Sequential([\n",
    "    layers.Conv1D(32, 3, padding='same', input_shape=(428, 1)),\n",
    "    layers.BatchNormalization(),\n",
    "    layers.Activation(keras.activations.relu),\n",
    "\n",
    "    layers.Conv1D(64, 3, padding='same'),\n",
    "    layers.Conv1D(64, 3, padding='same'),\n",
    "    layers.BatchNormalization(),\n",
    "    layers.Activation(keras.activations.relu),\n",
    "    layers.MaxPool1D(pool_size=(2), strides=2),\n",
    "    \n",
    "    layers.Conv1D(64, 3, padding='same'),\n",
    "    layers.Conv1D(64, 3, padding='same'),\n",
    "    layers.BatchNormalization(),\n",
    "    layers.Activation(keras.activations.relu),\n",
    "    layers.MaxPool1D(pool_size=(2), strides=2),\n",
    "    \n",
    "    layers.Conv1D(128, 3, padding='same'),\n",
    "    layers.Conv1D(128, 3, padding='same'),\n",
    "    layers.BatchNormalization(),\n",
    "    layers.Activation(keras.activations.relu),\n",
    "    layers.MaxPool1D(pool_size=(2), strides=2),\n",
    "    \n",
    "    layers.Conv1D(128, 3, padding='same'),\n",
    "    layers.Conv1D(128, 3, padding='same'),\n",
    "    layers.BatchNormalization(),\n",
    "    layers.Activation(keras.activations.relu),\n",
    "    layers.MaxPool1D(pool_size=(2), strides=2),\n",
    "    \n",
    "    layers.Conv1D(256, 3, padding='same'),\n",
    "    layers.Conv1D(256, 3, padding='same'),\n",
    "    layers.BatchNormalization(),\n",
    "    layers.Activation(keras.activations.relu),\n",
    "    layers.MaxPool1D(pool_size=(2), strides=2),\n",
    "    \n",
    "    layers.Conv1D(256, 3, padding='same'),\n",
    "    layers.Conv1D(256, 3, padding='same'),\n",
    "    layers.BatchNormalization(),\n",
    "    layers.Activation(keras.activations.relu),\n",
    "    layers.MaxPool1D(pool_size=(2), strides=2),\n",
    "\n",
    "    layers.Reshape((1, 1536)),\n",
    "    layers.Dropout(0.5),\n",
    "    layers.GRU(1536),\n",
    "    layers.Dense(192, activation='relu'),\n",
    "    layers.Dense(5, activation='softmax')\n",
    "])"
   ]
  },
  {
   "cell_type": "code",
   "execution_count": 12,
   "metadata": {},
   "outputs": [
    {
     "name": "stdout",
     "output_type": "stream",
     "text": [
      "Model: \"sequential\"\n",
      "_________________________________________________________________\n",
      " Layer (type)                Output Shape              Param #   \n",
      "=================================================================\n",
      " conv1d (Conv1D)             (None, 428, 32)           128       \n",
      "                                                                 \n",
      " batch_normalization (BatchN  (None, 428, 32)          128       \n",
      " ormalization)                                                   \n",
      "                                                                 \n",
      " activation (Activation)     (None, 428, 32)           0         \n",
      "                                                                 \n",
      " conv1d_1 (Conv1D)           (None, 428, 64)           6208      \n",
      "                                                                 \n",
      " conv1d_2 (Conv1D)           (None, 428, 64)           12352     \n",
      "                                                                 \n",
      " batch_normalization_1 (Batc  (None, 428, 64)          256       \n",
      " hNormalization)                                                 \n",
      "                                                                 \n",
      " activation_1 (Activation)   (None, 428, 64)           0         \n",
      "                                                                 \n",
      " max_pooling1d (MaxPooling1D  (None, 214, 64)          0         \n",
      " )                                                               \n",
      "                                                                 \n",
      " conv1d_3 (Conv1D)           (None, 214, 64)           12352     \n",
      "                                                                 \n",
      " conv1d_4 (Conv1D)           (None, 214, 64)           12352     \n",
      "                                                                 \n",
      " batch_normalization_2 (Batc  (None, 214, 64)          256       \n",
      " hNormalization)                                                 \n",
      "                                                                 \n",
      " activation_2 (Activation)   (None, 214, 64)           0         \n",
      "                                                                 \n",
      " max_pooling1d_1 (MaxPooling  (None, 107, 64)          0         \n",
      " 1D)                                                             \n",
      "                                                                 \n",
      " conv1d_5 (Conv1D)           (None, 107, 128)          24704     \n",
      "                                                                 \n",
      " conv1d_6 (Conv1D)           (None, 107, 128)          49280     \n",
      "                                                                 \n",
      " batch_normalization_3 (Batc  (None, 107, 128)         512       \n",
      " hNormalization)                                                 \n",
      "                                                                 \n",
      " activation_3 (Activation)   (None, 107, 128)          0         \n",
      "                                                                 \n",
      " max_pooling1d_2 (MaxPooling  (None, 53, 128)          0         \n",
      " 1D)                                                             \n",
      "                                                                 \n",
      " conv1d_7 (Conv1D)           (None, 53, 128)           49280     \n",
      "                                                                 \n",
      " conv1d_8 (Conv1D)           (None, 53, 128)           49280     \n",
      "                                                                 \n",
      " batch_normalization_4 (Batc  (None, 53, 128)          512       \n",
      " hNormalization)                                                 \n",
      "                                                                 \n",
      " activation_4 (Activation)   (None, 53, 128)           0         \n",
      "                                                                 \n",
      " max_pooling1d_3 (MaxPooling  (None, 26, 128)          0         \n",
      " 1D)                                                             \n",
      "                                                                 \n",
      " conv1d_9 (Conv1D)           (None, 26, 256)           98560     \n",
      "                                                                 \n",
      " conv1d_10 (Conv1D)          (None, 26, 256)           196864    \n",
      "                                                                 \n",
      " batch_normalization_5 (Batc  (None, 26, 256)          1024      \n",
      " hNormalization)                                                 \n",
      "                                                                 \n",
      " activation_5 (Activation)   (None, 26, 256)           0         \n",
      "                                                                 \n",
      " max_pooling1d_4 (MaxPooling  (None, 13, 256)          0         \n",
      " 1D)                                                             \n",
      "                                                                 \n",
      " conv1d_11 (Conv1D)          (None, 13, 256)           196864    \n",
      "                                                                 \n",
      " conv1d_12 (Conv1D)          (None, 13, 256)           196864    \n",
      "                                                                 \n",
      " batch_normalization_6 (Batc  (None, 13, 256)          1024      \n",
      " hNormalization)                                                 \n",
      "                                                                 \n",
      " activation_6 (Activation)   (None, 13, 256)           0         \n",
      "                                                                 \n",
      " max_pooling1d_5 (MaxPooling  (None, 6, 256)           0         \n",
      " 1D)                                                             \n",
      "                                                                 \n",
      " reshape (Reshape)           (None, 1, 1536)           0         \n",
      "                                                                 \n",
      " dropout (Dropout)           (None, 1, 1536)           0         \n",
      "                                                                 \n",
      " gru (GRU)                   (None, 1536)              14164992  \n",
      "                                                                 \n",
      " dense (Dense)               (None, 192)               295104    \n",
      "                                                                 \n",
      " dense_1 (Dense)             (None, 5)                 965       \n",
      "                                                                 \n",
      "=================================================================\n",
      "Total params: 15,369,861\n",
      "Trainable params: 15,368,005\n",
      "Non-trainable params: 1,856\n",
      "_________________________________________________________________\n"
     ]
    }
   ],
   "source": [
    "lefms.summary()"
   ]
  },
  {
   "cell_type": "code",
   "execution_count": 13,
   "metadata": {},
   "outputs": [],
   "source": [
    "lefms.compile(\n",
    "        optimizer='adam',\n",
    "        loss='categorical_crossentropy',\n",
    "        metrics=['accuracy']\n",
    ")"
   ]
  },
  {
   "cell_type": "markdown",
   "metadata": {},
   "source": [
    "# train, test, validation data 나누기"
   ]
  },
  {
   "cell_type": "code",
   "execution_count": 14,
   "metadata": {},
   "outputs": [],
   "source": [
    "# # Train\n",
    "# X_train = tf.convert_to_tensor(npx)\n",
    "# X_train = tf.reshape(X_train, [7000, 428, 1])\n",
    "\n",
    "# y_train = tf.convert_to_tensor(npy)\n",
    "# y_train = tf.one_hot(y_train, 5)\n",
    "# y_train = tf.reshape(y_train, [7000, 5])\n",
    "# print(\"X_train shape : \",X_train.shape)\n",
    "# print(\"y_train shape\",y_train.shape)\n",
    "\n",
    "# # Validation\n",
    "# X_vali = tf.convert_to_tensor(npx_vali)\n",
    "# X_vali = tf.reshape(X_vali, [990, 428, 1])\n",
    "\n",
    "# y_vali = tf.convert_to_tensor(npy_vali)\n",
    "# y_vali = tf.one_hot(y_vali, 5)\n",
    "# y_vali = tf.reshape(y_vali, [990, 5])\n",
    "\n",
    "\n",
    "# print(\"X_validation shape : \", X_vali.shape)\n",
    "# print(\"y_validation shape : \", y_vali.shape)\n",
    "\n",
    "# # Test\n",
    "# X_test = tf.convert_to_tensor(npx_test)\n",
    "# X_test = tf.reshape(X_test, [2010, 428, 1])\n",
    "\n",
    "# y_test = tf.convert_to_tensor(npy_test)\n",
    "# y_test = tf.one_hot(y_test, 5)\n",
    "# y_test = tf.reshape(y_test, [2010, 5])\n",
    "# print(\"X_test shape : \", X_test.shape)\n",
    "# print(\"y_test shape : \", y_test.shape)"
   ]
  },
  {
   "cell_type": "markdown",
   "metadata": {},
   "source": [
    "### 콜백 설정"
   ]
  },
  {
   "cell_type": "code",
   "execution_count": 15,
   "metadata": {},
   "outputs": [],
   "source": [
    "# 콜백 설정\n",
    "from keras.callbacks import EarlyStopping, ModelCheckpoint\n",
    "\n",
    "outDir = './cheakpoint/lefms_model/' # 이 경로에 best 모델이 저장된다.\n",
    "model_names = outDir + 'weights-{val_accuracy:.4f}.h5'\n",
    "def get_callbacks(patience = 50):\n",
    "    \n",
    "    earlystop = EarlyStopping(monitor='val_accuracy', min_delta=0.0001, patience=patience)\n",
    "  \n",
    "    model_checkpoint = ModelCheckpoint(model_names, monitor='val_accuracy', verbose=1, save_best_only=True, period = 1)\n",
    "  \n",
    "    # callbacks = [earlystop, model_checkpoint]     # earlystop 사용하고 싶으면 이거 풀고 아래꺼 주석 처리\n",
    "    callbacks = [model_checkpoint]\n",
    "\n",
    "    return callbacks"
   ]
  },
  {
   "cell_type": "markdown",
   "metadata": {},
   "source": [
    "# 학습하기"
   ]
  },
  {
   "cell_type": "code",
   "execution_count": 16,
   "metadata": {},
   "outputs": [
    {
     "name": "stdout",
     "output_type": "stream",
     "text": [
      "WARNING:tensorflow:`period` argument is deprecated. Please use `save_freq` to specify the frequency in number of batches seen.\n",
      "Epoch 1/100\n"
     ]
    },
    {
     "name": "stderr",
     "output_type": "stream",
     "text": [
      "2022-06-28 10:59:05.177615: W tensorflow/core/platform/profile_utils/cpu_utils.cc:128] Failed to get CPU frequency: 0 Hz\n",
      "2022-06-28 10:59:06.696360: I tensorflow/core/grappler/optimizers/custom_graph_optimizer_registry.cc:112] Plugin optimizer for device_type GPU is enabled.\n",
      "2022-06-28 10:59:07.511382: I tensorflow/core/grappler/optimizers/custom_graph_optimizer_registry.cc:112] Plugin optimizer for device_type GPU is enabled.\n",
      "2022-06-28 10:59:07.631005: I tensorflow/core/grappler/optimizers/custom_graph_optimizer_registry.cc:112] Plugin optimizer for device_type GPU is enabled.\n"
     ]
    },
    {
     "name": "stdout",
     "output_type": "stream",
     "text": [
      "240/240 [==============================] - ETA: 0s - loss: 0.3225 - accuracy: 0.8888"
     ]
    },
    {
     "name": "stderr",
     "output_type": "stream",
     "text": [
      "2022-06-28 11:00:04.108287: I tensorflow/core/grappler/optimizers/custom_graph_optimizer_registry.cc:112] Plugin optimizer for device_type GPU is enabled.\n",
      "2022-06-28 11:00:04.385038: I tensorflow/core/grappler/optimizers/custom_graph_optimizer_registry.cc:112] Plugin optimizer for device_type GPU is enabled.\n"
     ]
    },
    {
     "name": "stdout",
     "output_type": "stream",
     "text": [
      "\n",
      "Epoch 00001: val_accuracy improved from -inf to 0.26452, saving model to ./cheakpoint/lefms_model/weights-0.2645.h5\n",
      "240/240 [==============================] - 61s 242ms/step - loss: 0.3225 - accuracy: 0.8888 - val_loss: 2.1441 - val_accuracy: 0.2645\n",
      "Epoch 2/100\n",
      "240/240 [==============================] - ETA: 0s - loss: 0.1396 - accuracy: 0.9545\n",
      "Epoch 00002: val_accuracy improved from 0.26452 to 0.94227, saving model to ./cheakpoint/lefms_model/weights-0.9423.h5\n",
      "240/240 [==============================] - 55s 230ms/step - loss: 0.1396 - accuracy: 0.9545 - val_loss: 0.1725 - val_accuracy: 0.9423\n",
      "Epoch 3/100\n",
      "240/240 [==============================] - ETA: 0s - loss: 0.1024 - accuracy: 0.9664\n",
      "Epoch 00003: val_accuracy improved from 0.94227 to 0.95801, saving model to ./cheakpoint/lefms_model/weights-0.9580.h5\n",
      "240/240 [==============================] - 53s 220ms/step - loss: 0.1024 - accuracy: 0.9664 - val_loss: 0.1145 - val_accuracy: 0.9580\n",
      "Epoch 4/100\n",
      "240/240 [==============================] - ETA: 0s - loss: 0.0768 - accuracy: 0.9754\n",
      "Epoch 00004: val_accuracy did not improve from 0.95801\n",
      "240/240 [==============================] - 53s 221ms/step - loss: 0.0768 - accuracy: 0.9754 - val_loss: 0.1403 - val_accuracy: 0.9528\n",
      "Epoch 5/100\n",
      "240/240 [==============================] - ETA: 0s - loss: 0.0664 - accuracy: 0.9782\n",
      "Epoch 00005: val_accuracy did not improve from 0.95801\n",
      "240/240 [==============================] - 55s 230ms/step - loss: 0.0664 - accuracy: 0.9782 - val_loss: 0.2896 - val_accuracy: 0.9143\n",
      "Epoch 6/100\n",
      "240/240 [==============================] - ETA: 0s - loss: 0.0580 - accuracy: 0.9813\n",
      "Epoch 00006: val_accuracy improved from 0.95801 to 0.97271, saving model to ./cheakpoint/lefms_model/weights-0.9727.h5\n",
      "240/240 [==============================] - 53s 222ms/step - loss: 0.0580 - accuracy: 0.9813 - val_loss: 0.0832 - val_accuracy: 0.9727\n",
      "Epoch 7/100\n",
      "240/240 [==============================] - ETA: 0s - loss: 0.0443 - accuracy: 0.9861\n",
      "Epoch 00007: val_accuracy did not improve from 0.97271\n",
      "240/240 [==============================] - 52s 216ms/step - loss: 0.0443 - accuracy: 0.9861 - val_loss: 0.2709 - val_accuracy: 0.8954\n",
      "Epoch 8/100\n",
      "240/240 [==============================] - ETA: 0s - loss: 0.0452 - accuracy: 0.9861\n",
      "Epoch 00008: val_accuracy did not improve from 0.97271\n",
      "240/240 [==============================] - 52s 216ms/step - loss: 0.0452 - accuracy: 0.9861 - val_loss: 0.1136 - val_accuracy: 0.9664\n",
      "Epoch 9/100\n",
      "240/240 [==============================] - ETA: 0s - loss: 0.0440 - accuracy: 0.9859\n",
      "Epoch 00009: val_accuracy did not improve from 0.97271\n",
      "240/240 [==============================] - 52s 215ms/step - loss: 0.0440 - accuracy: 0.9859 - val_loss: 0.1617 - val_accuracy: 0.9580\n",
      "Epoch 10/100\n",
      "240/240 [==============================] - ETA: 0s - loss: 0.0333 - accuracy: 0.9892\n",
      "Epoch 00010: val_accuracy did not improve from 0.97271\n",
      "240/240 [==============================] - 53s 222ms/step - loss: 0.0333 - accuracy: 0.9892 - val_loss: 0.1223 - val_accuracy: 0.9657\n",
      "Epoch 11/100\n",
      "240/240 [==============================] - ETA: 0s - loss: 0.0332 - accuracy: 0.9892\n",
      "Epoch 00011: val_accuracy did not improve from 0.97271\n",
      "240/240 [==============================] - 52s 216ms/step - loss: 0.0332 - accuracy: 0.9892 - val_loss: 0.1303 - val_accuracy: 0.9654\n",
      "Epoch 12/100\n",
      "240/240 [==============================] - ETA: 0s - loss: 0.0320 - accuracy: 0.9901\n",
      "Epoch 00012: val_accuracy did not improve from 0.97271\n",
      "240/240 [==============================] - 52s 217ms/step - loss: 0.0320 - accuracy: 0.9901 - val_loss: 0.1064 - val_accuracy: 0.9699\n",
      "Epoch 13/100\n",
      "240/240 [==============================] - ETA: 0s - loss: 0.0272 - accuracy: 0.9911\n",
      "Epoch 00013: val_accuracy improved from 0.97271 to 0.97831, saving model to ./cheakpoint/lefms_model/weights-0.9783.h5\n",
      "240/240 [==============================] - 54s 226ms/step - loss: 0.0272 - accuracy: 0.9911 - val_loss: 0.1050 - val_accuracy: 0.9783\n",
      "Epoch 14/100\n",
      "240/240 [==============================] - ETA: 0s - loss: 0.0248 - accuracy: 0.9925\n",
      "Epoch 00014: val_accuracy did not improve from 0.97831\n",
      "240/240 [==============================] - 52s 217ms/step - loss: 0.0248 - accuracy: 0.9925 - val_loss: 0.1041 - val_accuracy: 0.9745\n",
      "Epoch 15/100\n",
      "240/240 [==============================] - ETA: 0s - loss: 0.0256 - accuracy: 0.9919\n",
      "Epoch 00015: val_accuracy did not improve from 0.97831\n",
      "240/240 [==============================] - 51s 211ms/step - loss: 0.0256 - accuracy: 0.9919 - val_loss: 0.1147 - val_accuracy: 0.9717\n",
      "Epoch 16/100\n",
      "240/240 [==============================] - ETA: 0s - loss: 0.0296 - accuracy: 0.9907\n",
      "Epoch 00016: val_accuracy did not improve from 0.97831\n",
      "240/240 [==============================] - 53s 220ms/step - loss: 0.0296 - accuracy: 0.9907 - val_loss: 0.1418 - val_accuracy: 0.9668\n",
      "Epoch 17/100\n",
      "240/240 [==============================] - ETA: 0s - loss: 0.0232 - accuracy: 0.9922\n",
      "Epoch 00017: val_accuracy did not improve from 0.97831\n",
      "240/240 [==============================] - 52s 218ms/step - loss: 0.0232 - accuracy: 0.9922 - val_loss: 0.1165 - val_accuracy: 0.9696\n",
      "Epoch 18/100\n",
      "240/240 [==============================] - ETA: 0s - loss: 0.0224 - accuracy: 0.9928\n",
      "Epoch 00018: val_accuracy did not improve from 0.97831\n",
      "240/240 [==============================] - 52s 215ms/step - loss: 0.0224 - accuracy: 0.9928 - val_loss: 0.0979 - val_accuracy: 0.9766\n",
      "Epoch 19/100\n",
      "240/240 [==============================] - ETA: 0s - loss: 0.0251 - accuracy: 0.9922\n",
      "Epoch 00019: val_accuracy did not improve from 0.97831\n",
      "240/240 [==============================] - 52s 216ms/step - loss: 0.0251 - accuracy: 0.9922 - val_loss: 0.1202 - val_accuracy: 0.9668\n",
      "Epoch 20/100\n",
      "240/240 [==============================] - ETA: 0s - loss: 0.0219 - accuracy: 0.9923\n",
      "Epoch 00020: val_accuracy improved from 0.97831 to 0.97936, saving model to ./cheakpoint/lefms_model/weights-0.9794.h5\n",
      "240/240 [==============================] - 52s 216ms/step - loss: 0.0219 - accuracy: 0.9923 - val_loss: 0.0877 - val_accuracy: 0.9794\n",
      "Epoch 21/100\n",
      "240/240 [==============================] - ETA: 0s - loss: 0.0191 - accuracy: 0.9938\n",
      "Epoch 00021: val_accuracy did not improve from 0.97936\n",
      "240/240 [==============================] - 52s 218ms/step - loss: 0.0191 - accuracy: 0.9938 - val_loss: 0.0951 - val_accuracy: 0.9762\n",
      "Epoch 22/100\n",
      "240/240 [==============================] - ETA: 0s - loss: 0.0174 - accuracy: 0.9945\n",
      "Epoch 00022: val_accuracy did not improve from 0.97936\n",
      "240/240 [==============================] - 55s 227ms/step - loss: 0.0174 - accuracy: 0.9945 - val_loss: 0.1530 - val_accuracy: 0.9640\n",
      "Epoch 23/100\n",
      "240/240 [==============================] - ETA: 0s - loss: 0.0189 - accuracy: 0.9937\n",
      "Epoch 00023: val_accuracy did not improve from 0.97936\n",
      "240/240 [==============================] - 56s 234ms/step - loss: 0.0189 - accuracy: 0.9937 - val_loss: 0.1079 - val_accuracy: 0.9783\n",
      "Epoch 24/100\n",
      "240/240 [==============================] - ETA: 0s - loss: 0.0143 - accuracy: 0.9949\n",
      "Epoch 00024: val_accuracy did not improve from 0.97936\n",
      "240/240 [==============================] - 56s 234ms/step - loss: 0.0143 - accuracy: 0.9949 - val_loss: 0.1347 - val_accuracy: 0.9741\n",
      "Epoch 25/100\n",
      "240/240 [==============================] - ETA: 0s - loss: 0.0136 - accuracy: 0.9956\n",
      "Epoch 00025: val_accuracy did not improve from 0.97936\n",
      "240/240 [==============================] - 57s 236ms/step - loss: 0.0136 - accuracy: 0.9956 - val_loss: 0.1125 - val_accuracy: 0.9776\n",
      "Epoch 26/100\n",
      "240/240 [==============================] - ETA: 0s - loss: 0.0187 - accuracy: 0.9940\n",
      "Epoch 00026: val_accuracy did not improve from 0.97936\n",
      "240/240 [==============================] - 54s 225ms/step - loss: 0.0187 - accuracy: 0.9940 - val_loss: 0.1312 - val_accuracy: 0.9738\n",
      "Epoch 27/100\n",
      "240/240 [==============================] - ETA: 0s - loss: 0.0149 - accuracy: 0.9954\n",
      "Epoch 00027: val_accuracy did not improve from 0.97936\n",
      "240/240 [==============================] - 53s 221ms/step - loss: 0.0149 - accuracy: 0.9954 - val_loss: 0.1042 - val_accuracy: 0.9780\n",
      "Epoch 28/100\n",
      "240/240 [==============================] - ETA: 0s - loss: 0.0134 - accuracy: 0.9959\n",
      "Epoch 00028: val_accuracy did not improve from 0.97936\n",
      "240/240 [==============================] - 53s 219ms/step - loss: 0.0134 - accuracy: 0.9959 - val_loss: 0.1376 - val_accuracy: 0.9748\n",
      "Epoch 29/100\n",
      "240/240 [==============================] - ETA: 0s - loss: 0.0154 - accuracy: 0.9946\n",
      "Epoch 00029: val_accuracy improved from 0.97936 to 0.98111, saving model to ./cheakpoint/lefms_model/weights-0.9811.h5\n",
      "240/240 [==============================] - 55s 231ms/step - loss: 0.0154 - accuracy: 0.9946 - val_loss: 0.0992 - val_accuracy: 0.9811\n",
      "Epoch 30/100\n",
      "240/240 [==============================] - ETA: 0s - loss: 0.0147 - accuracy: 0.9955\n",
      "Epoch 00030: val_accuracy did not improve from 0.98111\n",
      "240/240 [==============================] - 50s 207ms/step - loss: 0.0147 - accuracy: 0.9955 - val_loss: 0.1082 - val_accuracy: 0.9773\n",
      "Epoch 31/100\n",
      "240/240 [==============================] - ETA: 0s - loss: 0.0078 - accuracy: 0.9978\n",
      "Epoch 00031: val_accuracy did not improve from 0.98111\n",
      "240/240 [==============================] - 46s 190ms/step - loss: 0.0078 - accuracy: 0.9978 - val_loss: 0.1350 - val_accuracy: 0.9755\n",
      "Epoch 32/100\n",
      "240/240 [==============================] - ETA: 0s - loss: 0.0140 - accuracy: 0.9955\n",
      "Epoch 00032: val_accuracy did not improve from 0.98111\n",
      "240/240 [==============================] - 51s 213ms/step - loss: 0.0140 - accuracy: 0.9955 - val_loss: 0.0944 - val_accuracy: 0.9797\n",
      "Epoch 33/100\n",
      "240/240 [==============================] - ETA: 0s - loss: 0.0137 - accuracy: 0.9957\n",
      "Epoch 00033: val_accuracy did not improve from 0.98111\n",
      "240/240 [==============================] - 53s 222ms/step - loss: 0.0137 - accuracy: 0.9957 - val_loss: 0.1619 - val_accuracy: 0.9661\n",
      "Epoch 34/100\n",
      "240/240 [==============================] - ETA: 0s - loss: 0.0148 - accuracy: 0.9954\n",
      "Epoch 00034: val_accuracy did not improve from 0.98111\n",
      "240/240 [==============================] - 55s 230ms/step - loss: 0.0148 - accuracy: 0.9954 - val_loss: 0.1722 - val_accuracy: 0.9671\n",
      "Epoch 35/100\n",
      "240/240 [==============================] - ETA: 0s - loss: 0.0124 - accuracy: 0.9966\n",
      "Epoch 00035: val_accuracy did not improve from 0.98111\n",
      "240/240 [==============================] - 50s 209ms/step - loss: 0.0124 - accuracy: 0.9966 - val_loss: 0.1079 - val_accuracy: 0.9801\n",
      "Epoch 36/100\n",
      "240/240 [==============================] - ETA: 0s - loss: 0.0101 - accuracy: 0.9972\n",
      "Epoch 00036: val_accuracy did not improve from 0.98111\n",
      "240/240 [==============================] - 48s 201ms/step - loss: 0.0101 - accuracy: 0.9972 - val_loss: 0.1029 - val_accuracy: 0.9794\n",
      "Epoch 37/100\n",
      "240/240 [==============================] - ETA: 0s - loss: 0.0101 - accuracy: 0.9965\n",
      "Epoch 00037: val_accuracy did not improve from 0.98111\n",
      "240/240 [==============================] - 50s 209ms/step - loss: 0.0101 - accuracy: 0.9965 - val_loss: 0.1271 - val_accuracy: 0.9762\n",
      "Epoch 38/100\n",
      "240/240 [==============================] - ETA: 0s - loss: 0.0144 - accuracy: 0.9957\n",
      "Epoch 00038: val_accuracy did not improve from 0.98111\n",
      "240/240 [==============================] - 48s 200ms/step - loss: 0.0144 - accuracy: 0.9957 - val_loss: 0.1116 - val_accuracy: 0.9776\n",
      "Epoch 39/100\n",
      "240/240 [==============================] - ETA: 0s - loss: 0.0071 - accuracy: 0.9980\n",
      "Epoch 00039: val_accuracy did not improve from 0.98111\n",
      "240/240 [==============================] - 52s 215ms/step - loss: 0.0071 - accuracy: 0.9980 - val_loss: 0.1213 - val_accuracy: 0.9790\n",
      "Epoch 40/100\n",
      "240/240 [==============================] - ETA: 0s - loss: 0.0100 - accuracy: 0.9970\n",
      "Epoch 00040: val_accuracy did not improve from 0.98111\n",
      "240/240 [==============================] - 52s 216ms/step - loss: 0.0100 - accuracy: 0.9970 - val_loss: 0.1182 - val_accuracy: 0.9787\n",
      "Epoch 41/100\n",
      "240/240 [==============================] - ETA: 0s - loss: 0.0098 - accuracy: 0.9969\n",
      "Epoch 00041: val_accuracy did not improve from 0.98111\n",
      "240/240 [==============================] - 52s 217ms/step - loss: 0.0098 - accuracy: 0.9969 - val_loss: 0.2754 - val_accuracy: 0.9402\n",
      "Epoch 42/100\n",
      "240/240 [==============================] - ETA: 0s - loss: 0.0162 - accuracy: 0.9951\n",
      "Epoch 00042: val_accuracy did not improve from 0.98111\n",
      "240/240 [==============================] - 52s 216ms/step - loss: 0.0162 - accuracy: 0.9951 - val_loss: 0.1132 - val_accuracy: 0.9776\n",
      "Epoch 43/100\n",
      "240/240 [==============================] - ETA: 0s - loss: 0.0116 - accuracy: 0.9967\n",
      "Epoch 00043: val_accuracy did not improve from 0.98111\n",
      "240/240 [==============================] - 53s 219ms/step - loss: 0.0116 - accuracy: 0.9967 - val_loss: 0.1308 - val_accuracy: 0.9766\n",
      "Epoch 44/100\n",
      "240/240 [==============================] - ETA: 0s - loss: 0.0091 - accuracy: 0.9970\n",
      "Epoch 00044: val_accuracy did not improve from 0.98111\n",
      "240/240 [==============================] - 53s 220ms/step - loss: 0.0091 - accuracy: 0.9970 - val_loss: 0.1303 - val_accuracy: 0.9790\n",
      "Epoch 45/100\n",
      "240/240 [==============================] - ETA: 0s - loss: 0.0076 - accuracy: 0.9980\n",
      "Epoch 00045: val_accuracy did not improve from 0.98111\n",
      "240/240 [==============================] - 52s 216ms/step - loss: 0.0076 - accuracy: 0.9980 - val_loss: 0.1273 - val_accuracy: 0.9755\n",
      "Epoch 46/100\n",
      "240/240 [==============================] - ETA: 0s - loss: 0.0088 - accuracy: 0.9973\n",
      "Epoch 00046: val_accuracy did not improve from 0.98111\n",
      "240/240 [==============================] - 52s 218ms/step - loss: 0.0088 - accuracy: 0.9973 - val_loss: 0.1356 - val_accuracy: 0.9787\n",
      "Epoch 47/100\n",
      "240/240 [==============================] - ETA: 0s - loss: 0.0090 - accuracy: 0.9970\n",
      "Epoch 00047: val_accuracy did not improve from 0.98111\n",
      "240/240 [==============================] - 54s 223ms/step - loss: 0.0090 - accuracy: 0.9970 - val_loss: 0.1680 - val_accuracy: 0.9727\n",
      "Epoch 48/100\n",
      "240/240 [==============================] - ETA: 0s - loss: 0.0071 - accuracy: 0.9978\n",
      "Epoch 00048: val_accuracy did not improve from 0.98111\n",
      "240/240 [==============================] - 55s 229ms/step - loss: 0.0071 - accuracy: 0.9978 - val_loss: 0.1558 - val_accuracy: 0.9692\n",
      "Epoch 49/100\n",
      "240/240 [==============================] - ETA: 0s - loss: 0.0049 - accuracy: 0.9987\n",
      "Epoch 00049: val_accuracy did not improve from 0.98111\n",
      "240/240 [==============================] - 53s 219ms/step - loss: 0.0049 - accuracy: 0.9987 - val_loss: 0.1396 - val_accuracy: 0.9794\n",
      "Epoch 50/100\n",
      "240/240 [==============================] - ETA: 0s - loss: 0.0081 - accuracy: 0.9976\n",
      "Epoch 00050: val_accuracy did not improve from 0.98111\n",
      "240/240 [==============================] - 53s 222ms/step - loss: 0.0081 - accuracy: 0.9976 - val_loss: 0.1603 - val_accuracy: 0.9734\n",
      "Epoch 51/100\n",
      "240/240 [==============================] - ETA: 0s - loss: 0.0049 - accuracy: 0.9987\n",
      "Epoch 00051: val_accuracy did not improve from 0.98111\n",
      "240/240 [==============================] - 53s 221ms/step - loss: 0.0049 - accuracy: 0.9987 - val_loss: 0.1334 - val_accuracy: 0.9790\n",
      "Epoch 52/100\n",
      "240/240 [==============================] - ETA: 0s - loss: 0.0161 - accuracy: 0.9951\n",
      "Epoch 00052: val_accuracy did not improve from 0.98111\n",
      "240/240 [==============================] - 51s 214ms/step - loss: 0.0161 - accuracy: 0.9951 - val_loss: 0.1180 - val_accuracy: 0.9745\n",
      "Epoch 53/100\n",
      "240/240 [==============================] - ETA: 0s - loss: 0.0070 - accuracy: 0.9981\n",
      "Epoch 00053: val_accuracy improved from 0.98111 to 0.98251, saving model to ./cheakpoint/lefms_model/weights-0.9825.h5\n",
      "240/240 [==============================] - 57s 239ms/step - loss: 0.0070 - accuracy: 0.9981 - val_loss: 0.1091 - val_accuracy: 0.9825\n",
      "Epoch 54/100\n",
      "240/240 [==============================] - ETA: 0s - loss: 0.0090 - accuracy: 0.9972\n",
      "Epoch 00054: val_accuracy did not improve from 0.98251\n",
      "240/240 [==============================] - 58s 241ms/step - loss: 0.0090 - accuracy: 0.9972 - val_loss: 0.1361 - val_accuracy: 0.9738\n",
      "Epoch 55/100\n",
      "240/240 [==============================] - ETA: 0s - loss: 0.0114 - accuracy: 0.9963\n",
      "Epoch 00055: val_accuracy did not improve from 0.98251\n",
      "240/240 [==============================] - 55s 227ms/step - loss: 0.0114 - accuracy: 0.9963 - val_loss: 0.1205 - val_accuracy: 0.9790\n",
      "Epoch 56/100\n",
      "240/240 [==============================] - ETA: 0s - loss: 0.0074 - accuracy: 0.9978\n",
      "Epoch 00056: val_accuracy did not improve from 0.98251\n",
      "240/240 [==============================] - 53s 219ms/step - loss: 0.0074 - accuracy: 0.9978 - val_loss: 0.1186 - val_accuracy: 0.9797\n",
      "Epoch 57/100\n",
      "240/240 [==============================] - ETA: 0s - loss: 0.0041 - accuracy: 0.9988\n",
      "Epoch 00057: val_accuracy did not improve from 0.98251\n",
      "240/240 [==============================] - 55s 230ms/step - loss: 0.0041 - accuracy: 0.9988 - val_loss: 0.1355 - val_accuracy: 0.9797\n",
      "Epoch 58/100\n",
      "240/240 [==============================] - ETA: 0s - loss: 0.0093 - accuracy: 0.9971\n",
      "Epoch 00058: val_accuracy did not improve from 0.98251\n",
      "240/240 [==============================] - 55s 228ms/step - loss: 0.0093 - accuracy: 0.9971 - val_loss: 0.1265 - val_accuracy: 0.9787\n",
      "Epoch 59/100\n",
      "240/240 [==============================] - ETA: 0s - loss: 0.0033 - accuracy: 0.9992\n",
      "Epoch 00059: val_accuracy did not improve from 0.98251\n",
      "240/240 [==============================] - 53s 221ms/step - loss: 0.0033 - accuracy: 0.9992 - val_loss: 0.1307 - val_accuracy: 0.9804\n",
      "Epoch 60/100\n",
      "240/240 [==============================] - ETA: 0s - loss: 0.0040 - accuracy: 0.9990\n",
      "Epoch 00060: val_accuracy did not improve from 0.98251\n",
      "240/240 [==============================] - 55s 227ms/step - loss: 0.0040 - accuracy: 0.9990 - val_loss: 0.1384 - val_accuracy: 0.9815\n",
      "Epoch 61/100\n",
      "240/240 [==============================] - ETA: 0s - loss: 0.0058 - accuracy: 0.9984\n",
      "Epoch 00061: val_accuracy did not improve from 0.98251\n",
      "240/240 [==============================] - 55s 227ms/step - loss: 0.0058 - accuracy: 0.9984 - val_loss: 0.1671 - val_accuracy: 0.9689\n",
      "Epoch 62/100\n",
      "240/240 [==============================] - ETA: 0s - loss: 0.0110 - accuracy: 0.9964\n",
      "Epoch 00062: val_accuracy did not improve from 0.98251\n",
      "240/240 [==============================] - 55s 228ms/step - loss: 0.0110 - accuracy: 0.9964 - val_loss: 0.2076 - val_accuracy: 0.9622\n",
      "Epoch 63/100\n",
      "240/240 [==============================] - ETA: 0s - loss: 0.0058 - accuracy: 0.9981\n",
      "Epoch 00063: val_accuracy did not improve from 0.98251\n",
      "240/240 [==============================] - 51s 213ms/step - loss: 0.0058 - accuracy: 0.9981 - val_loss: 0.1527 - val_accuracy: 0.9769\n",
      "Epoch 64/100\n",
      "240/240 [==============================] - ETA: 0s - loss: 0.0077 - accuracy: 0.9976\n",
      "Epoch 00064: val_accuracy did not improve from 0.98251\n",
      "240/240 [==============================] - 51s 212ms/step - loss: 0.0077 - accuracy: 0.9976 - val_loss: 0.1169 - val_accuracy: 0.9818\n",
      "Epoch 65/100\n",
      "240/240 [==============================] - ETA: 0s - loss: 0.0071 - accuracy: 0.9976\n",
      "Epoch 00065: val_accuracy did not improve from 0.98251\n",
      "240/240 [==============================] - 53s 221ms/step - loss: 0.0071 - accuracy: 0.9976 - val_loss: 0.1494 - val_accuracy: 0.9731\n",
      "Epoch 66/100\n",
      "240/240 [==============================] - ETA: 0s - loss: 0.0075 - accuracy: 0.9979\n",
      "Epoch 00066: val_accuracy did not improve from 0.98251\n",
      "240/240 [==============================] - 57s 236ms/step - loss: 0.0075 - accuracy: 0.9979 - val_loss: 0.1404 - val_accuracy: 0.9773\n",
      "Epoch 67/100\n",
      "240/240 [==============================] - ETA: 0s - loss: 0.0058 - accuracy: 0.9981\n",
      "Epoch 00067: val_accuracy did not improve from 0.98251\n",
      "240/240 [==============================] - 56s 231ms/step - loss: 0.0058 - accuracy: 0.9981 - val_loss: 0.1267 - val_accuracy: 0.9801\n",
      "Epoch 68/100\n",
      "240/240 [==============================] - ETA: 0s - loss: 0.0031 - accuracy: 0.9988\n",
      "Epoch 00068: val_accuracy did not improve from 0.98251\n",
      "240/240 [==============================] - 58s 240ms/step - loss: 0.0031 - accuracy: 0.9988 - val_loss: 0.1135 - val_accuracy: 0.9825\n",
      "Epoch 69/100\n",
      "240/240 [==============================] - ETA: 0s - loss: 0.0023 - accuracy: 0.9993\n",
      "Epoch 00069: val_accuracy did not improve from 0.98251\n",
      "240/240 [==============================] - 52s 217ms/step - loss: 0.0023 - accuracy: 0.9993 - val_loss: 0.1387 - val_accuracy: 0.9790\n",
      "Epoch 70/100\n",
      "240/240 [==============================] - ETA: 0s - loss: 0.0050 - accuracy: 0.9986\n",
      "Epoch 00070: val_accuracy did not improve from 0.98251\n",
      "240/240 [==============================] - 51s 213ms/step - loss: 0.0050 - accuracy: 0.9986 - val_loss: 0.1603 - val_accuracy: 0.9762\n",
      "Epoch 71/100\n",
      "240/240 [==============================] - ETA: 0s - loss: 0.0103 - accuracy: 0.9971\n",
      "Epoch 00071: val_accuracy did not improve from 0.98251\n",
      "240/240 [==============================] - 52s 219ms/step - loss: 0.0103 - accuracy: 0.9971 - val_loss: 0.1236 - val_accuracy: 0.9797\n",
      "Epoch 72/100\n",
      "240/240 [==============================] - ETA: 0s - loss: 0.0055 - accuracy: 0.9983\n",
      "Epoch 00072: val_accuracy did not improve from 0.98251\n",
      "240/240 [==============================] - 52s 215ms/step - loss: 0.0055 - accuracy: 0.9983 - val_loss: 0.1070 - val_accuracy: 0.9811\n",
      "Epoch 73/100\n",
      "240/240 [==============================] - ETA: 0s - loss: 0.0064 - accuracy: 0.9982\n",
      "Epoch 00073: val_accuracy did not improve from 0.98251\n",
      "240/240 [==============================] - 59s 245ms/step - loss: 0.0064 - accuracy: 0.9982 - val_loss: 0.1482 - val_accuracy: 0.9780\n",
      "Epoch 74/100\n",
      "240/240 [==============================] - ETA: 0s - loss: 0.0090 - accuracy: 0.9973\n",
      "Epoch 00074: val_accuracy did not improve from 0.98251\n",
      "240/240 [==============================] - 59s 244ms/step - loss: 0.0090 - accuracy: 0.9973 - val_loss: 0.1175 - val_accuracy: 0.9822\n",
      "Epoch 75/100\n",
      "240/240 [==============================] - ETA: 0s - loss: 0.0013 - accuracy: 0.9995\n",
      "Epoch 00075: val_accuracy improved from 0.98251 to 0.98425, saving model to ./cheakpoint/lefms_model/weights-0.9843.h5\n",
      "240/240 [==============================] - 57s 237ms/step - loss: 0.0013 - accuracy: 0.9995 - val_loss: 0.1319 - val_accuracy: 0.9843\n",
      "Epoch 76/100\n",
      "240/240 [==============================] - ETA: 0s - loss: 0.0035 - accuracy: 0.9989\n",
      "Epoch 00076: val_accuracy did not improve from 0.98425\n",
      "240/240 [==============================] - 56s 235ms/step - loss: 0.0035 - accuracy: 0.9989 - val_loss: 0.1414 - val_accuracy: 0.9773\n",
      "Epoch 77/100\n",
      "240/240 [==============================] - ETA: 0s - loss: 0.0098 - accuracy: 0.9968\n",
      "Epoch 00077: val_accuracy did not improve from 0.98425\n",
      "240/240 [==============================] - 52s 216ms/step - loss: 0.0098 - accuracy: 0.9968 - val_loss: 0.1251 - val_accuracy: 0.9783\n",
      "Epoch 78/100\n",
      "240/240 [==============================] - ETA: 0s - loss: 0.0048 - accuracy: 0.9983\n",
      "Epoch 00078: val_accuracy did not improve from 0.98425\n",
      "240/240 [==============================] - 55s 230ms/step - loss: 0.0048 - accuracy: 0.9983 - val_loss: 0.1192 - val_accuracy: 0.9783\n",
      "Epoch 79/100\n",
      "240/240 [==============================] - ETA: 0s - loss: 0.0051 - accuracy: 0.9986\n",
      "Epoch 00079: val_accuracy did not improve from 0.98425\n",
      "240/240 [==============================] - 52s 216ms/step - loss: 0.0051 - accuracy: 0.9986 - val_loss: 0.1617 - val_accuracy: 0.9790\n",
      "Epoch 80/100\n",
      "240/240 [==============================] - ETA: 0s - loss: 0.0075 - accuracy: 0.9979\n",
      "Epoch 00080: val_accuracy did not improve from 0.98425\n",
      "240/240 [==============================] - 52s 215ms/step - loss: 0.0075 - accuracy: 0.9979 - val_loss: 0.1716 - val_accuracy: 0.9703\n",
      "Epoch 81/100\n",
      "240/240 [==============================] - ETA: 0s - loss: 0.0065 - accuracy: 0.9977\n",
      "Epoch 00081: val_accuracy did not improve from 0.98425\n",
      "240/240 [==============================] - 52s 218ms/step - loss: 0.0065 - accuracy: 0.9977 - val_loss: 0.2118 - val_accuracy: 0.9633\n",
      "Epoch 82/100\n",
      "240/240 [==============================] - ETA: 0s - loss: 0.0118 - accuracy: 0.9967\n",
      "Epoch 00082: val_accuracy did not improve from 0.98425\n",
      "240/240 [==============================] - 52s 216ms/step - loss: 0.0118 - accuracy: 0.9967 - val_loss: 0.1270 - val_accuracy: 0.9787\n",
      "Epoch 83/100\n",
      "240/240 [==============================] - ETA: 0s - loss: 8.4366e-04 - accuracy: 0.9998\n",
      "Epoch 00083: val_accuracy did not improve from 0.98425\n",
      "240/240 [==============================] - 51s 213ms/step - loss: 8.4366e-04 - accuracy: 0.9998 - val_loss: 0.1323 - val_accuracy: 0.9825\n",
      "Epoch 84/100\n",
      "240/240 [==============================] - ETA: 0s - loss: 0.0024 - accuracy: 0.9994\n",
      "Epoch 00084: val_accuracy did not improve from 0.98425\n",
      "240/240 [==============================] - 51s 213ms/step - loss: 0.0024 - accuracy: 0.9994 - val_loss: 0.1457 - val_accuracy: 0.9825\n",
      "Epoch 85/100\n",
      "240/240 [==============================] - ETA: 0s - loss: 0.0048 - accuracy: 0.9986\n",
      "Epoch 00085: val_accuracy did not improve from 0.98425\n",
      "240/240 [==============================] - 51s 214ms/step - loss: 0.0048 - accuracy: 0.9986 - val_loss: 0.1282 - val_accuracy: 0.9787\n",
      "Epoch 86/100\n",
      "240/240 [==============================] - ETA: 0s - loss: 6.7649e-04 - accuracy: 0.9997\n",
      "Epoch 00086: val_accuracy did not improve from 0.98425\n",
      "240/240 [==============================] - 51s 213ms/step - loss: 6.7649e-04 - accuracy: 0.9997 - val_loss: 0.1861 - val_accuracy: 0.9794\n",
      "Epoch 87/100\n",
      "240/240 [==============================] - ETA: 0s - loss: 0.0078 - accuracy: 0.9975\n",
      "Epoch 00087: val_accuracy did not improve from 0.98425\n",
      "240/240 [==============================] - 53s 220ms/step - loss: 0.0078 - accuracy: 0.9975 - val_loss: 0.1372 - val_accuracy: 0.9773\n",
      "Epoch 88/100\n",
      "240/240 [==============================] - ETA: 0s - loss: 0.0031 - accuracy: 0.9991\n",
      "Epoch 00088: val_accuracy did not improve from 0.98425\n",
      "240/240 [==============================] - 52s 218ms/step - loss: 0.0031 - accuracy: 0.9991 - val_loss: 0.1704 - val_accuracy: 0.9738\n",
      "Epoch 89/100\n",
      "240/240 [==============================] - ETA: 0s - loss: 0.0035 - accuracy: 0.9990\n",
      "Epoch 00089: val_accuracy did not improve from 0.98425\n",
      "240/240 [==============================] - 52s 214ms/step - loss: 0.0035 - accuracy: 0.9990 - val_loss: 0.1699 - val_accuracy: 0.9794\n",
      "Epoch 90/100\n",
      "240/240 [==============================] - ETA: 0s - loss: 0.0092 - accuracy: 0.9971\n",
      "Epoch 00090: val_accuracy did not improve from 0.98425\n",
      "240/240 [==============================] - 49s 206ms/step - loss: 0.0092 - accuracy: 0.9971 - val_loss: 0.1377 - val_accuracy: 0.9755\n",
      "Epoch 91/100\n",
      "240/240 [==============================] - ETA: 0s - loss: 0.0034 - accuracy: 0.9990\n",
      "Epoch 00091: val_accuracy improved from 0.98425 to 0.98495, saving model to ./cheakpoint/lefms_model/weights-0.9850.h5\n",
      "240/240 [==============================] - 47s 195ms/step - loss: 0.0034 - accuracy: 0.9990 - val_loss: 0.1328 - val_accuracy: 0.9850\n",
      "Epoch 92/100\n",
      "240/240 [==============================] - ETA: 0s - loss: 0.0021 - accuracy: 0.9993\n",
      "Epoch 00092: val_accuracy did not improve from 0.98495\n",
      "240/240 [==============================] - 45s 190ms/step - loss: 0.0021 - accuracy: 0.9993 - val_loss: 0.1350 - val_accuracy: 0.9815\n",
      "Epoch 93/100\n",
      "240/240 [==============================] - ETA: 0s - loss: 0.0074 - accuracy: 0.9978\n",
      "Epoch 00093: val_accuracy did not improve from 0.98495\n",
      "240/240 [==============================] - 49s 204ms/step - loss: 0.0074 - accuracy: 0.9978 - val_loss: 0.1554 - val_accuracy: 0.9790\n",
      "Epoch 94/100\n",
      "240/240 [==============================] - ETA: 0s - loss: 0.0050 - accuracy: 0.9985\n",
      "Epoch 00094: val_accuracy did not improve from 0.98495\n",
      "240/240 [==============================] - 45s 189ms/step - loss: 0.0050 - accuracy: 0.9985 - val_loss: 0.1273 - val_accuracy: 0.9832\n",
      "Epoch 95/100\n",
      "240/240 [==============================] - ETA: 0s - loss: 0.0016 - accuracy: 0.9993\n",
      "Epoch 00095: val_accuracy did not improve from 0.98495\n",
      "240/240 [==============================] - 46s 193ms/step - loss: 0.0016 - accuracy: 0.9993 - val_loss: 0.1546 - val_accuracy: 0.9804\n",
      "Epoch 96/100\n",
      "240/240 [==============================] - ETA: 0s - loss: 0.0031 - accuracy: 0.9990\n",
      "Epoch 00096: val_accuracy did not improve from 0.98495\n",
      "240/240 [==============================] - 46s 191ms/step - loss: 0.0031 - accuracy: 0.9990 - val_loss: 0.1531 - val_accuracy: 0.9783\n",
      "Epoch 97/100\n",
      "240/240 [==============================] - ETA: 0s - loss: 0.0028 - accuracy: 0.9992\n",
      "Epoch 00097: val_accuracy did not improve from 0.98495\n",
      "240/240 [==============================] - 47s 196ms/step - loss: 0.0028 - accuracy: 0.9992 - val_loss: 0.1303 - val_accuracy: 0.9839\n",
      "Epoch 98/100\n",
      "240/240 [==============================] - ETA: 0s - loss: 0.0050 - accuracy: 0.9987\n",
      "Epoch 00098: val_accuracy did not improve from 0.98495\n",
      "240/240 [==============================] - 47s 196ms/step - loss: 0.0050 - accuracy: 0.9987 - val_loss: 0.1199 - val_accuracy: 0.9825\n",
      "Epoch 99/100\n",
      "240/240 [==============================] - ETA: 0s - loss: 0.0020 - accuracy: 0.9994\n",
      "Epoch 00099: val_accuracy did not improve from 0.98495\n",
      "240/240 [==============================] - 47s 197ms/step - loss: 0.0020 - accuracy: 0.9994 - val_loss: 0.1538 - val_accuracy: 0.9822\n",
      "Epoch 100/100\n",
      "240/240 [==============================] - ETA: 0s - loss: 0.0018 - accuracy: 0.9996\n",
      "Epoch 00100: val_accuracy did not improve from 0.98495\n",
      "240/240 [==============================] - 46s 190ms/step - loss: 0.0018 - accuracy: 0.9996 - val_loss: 0.1654 - val_accuracy: 0.9797\n"
     ]
    }
   ],
   "source": [
    "callbacks = get_callbacks()\n",
    "\n",
    "lefms_hist = lefms.fit(X_train, Y_train, \n",
    "                        batch_size=BATCH_SIZE, \n",
    "                        epochs=100, \n",
    "                        validation_data=(X_val, y_val),\n",
    "                        callbacks = [callbacks])"
   ]
  },
  {
   "cell_type": "markdown",
   "metadata": {},
   "source": [
    "# 결과 시각화 하기"
   ]
  },
  {
   "cell_type": "code",
   "execution_count": 17,
   "metadata": {},
   "outputs": [],
   "source": [
    "# 학습 된 모델의 학습 과정 시각화\n",
    "import matplotlib.pyplot as plt\n",
    "def plot_model__hist(hist):\n",
    "    path = './cheakpoint/lefms/' # loss, accuracy 그래프 저장할 path\n",
    "    createDirectory(path)\n",
    "\n",
    "    # loss 추이 그래프로 그려서 저장\n",
    "    plt.figure(figsize=(6,6))\n",
    "    plt.style.use(\"ggplot\")\n",
    "    plt.plot(hist.history['loss'], color='b', label=\"Training loss\")\n",
    "    plt.plot(hist.history['val_loss'], color='r', label=\"Validation loss\")\n",
    "    plt.savefig(path + 'model_loss_hist.png')\n",
    "    plt.legend()\n",
    "    plt.show()\n",
    "\n",
    "    # accuracy 추이 그래프로 그려서 저장\n",
    "    plt.figure(figsize=(6,6))\n",
    "    plt.style.use(\"ggplot\")\n",
    "    plt.plot(hist.history['accuracy'], color='b', label=\"Training accuracy\")\n",
    "    plt.plot(hist.history['val_accuracy'], color='r',label=\"Validation accuracy\")\n",
    "    plt.savefig(path + 'model_loss_hist.png')\n",
    "    plt.legend(loc = \"lower right\")"
   ]
  },
  {
   "cell_type": "code",
   "execution_count": 18,
   "metadata": {},
   "outputs": [
    {
     "data": {
      "image/png": "[encoded data removed]",
      "text/plain": [
       "<Figure size 432x432 with 1 Axes>"
      ]
     },
     "metadata": {
      "needs_background": "light"
     },
     "output_type": "display_data"
    },
    {
     "name": "stdout",
     "output_type": "stream",
     "text": [
      "182/182 - 5s - loss: 0.1561 - accuracy: 0.9781 - 5s/epoch - 28ms/step\n",
      "multi_model의 정확도: 97.81%\n",
      "multi_model의 Loss: 0.15611770749092102\n"
     ]
    },
    {
     "data": {
      "image/png": "[encoded data removed]",
      "text/plain": [
       "<Figure size 432x432 with 1 Axes>"
      ]
     },
     "metadata": {},
     "output_type": "display_data"
    }
   ],
   "source": [
    "plot_model__hist(lefms_hist)\n",
    "loss,acc = lefms.evaluate(X_test, y_test, verbose=2)\n",
    "print(\"multi_model의 정확도: {:5.2f}%\".format(100*acc))\n",
    "print(\"multi_model의 Loss: {}\".format(loss))"
   ]
  },
  {
   "cell_type": "markdown",
   "metadata": {},
   "source": [
    "# 모델 불러와서 confusion matrix 그리기"
   ]
  },
  {
   "cell_type": "code",
   "execution_count": 20,
   "metadata": {},
   "outputs": [],
   "source": [
    "# 모델 불러오기\n",
    "reconstructed_model = keras.models.load_model(\"./cheakpoint/lefms_model/weights-0.9850.h5\")"
   ]
  },
  {
   "cell_type": "code",
   "execution_count": 21,
   "metadata": {},
   "outputs": [
    {
     "name": "stderr",
     "output_type": "stream",
     "text": [
      "2022-06-28 13:18:40.738624: I tensorflow/core/grappler/optimizers/custom_graph_optimizer_registry.cc:112] Plugin optimizer for device_type GPU is enabled.\n",
      "2022-06-28 13:18:41.049662: I tensorflow/core/grappler/optimizers/custom_graph_optimizer_registry.cc:112] Plugin optimizer for device_type GPU is enabled.\n"
     ]
    }
   ],
   "source": [
    "# 예측값 얻기\n",
    "y_pred = reconstructed_model.predict(X_test)"
   ]
  },
  {
   "cell_type": "code",
   "execution_count": 22,
   "metadata": {},
   "outputs": [],
   "source": [
    "# one hat encoding 를 하나의 변수로 바꾸기\n",
    "new_y= []\n",
    "for val in y_test:\n",
    "    max = 0\n",
    "    cnt = 0\n",
    "    for idx, num in enumerate(val):\n",
    "        if max < num:\n",
    "            max = num\n",
    "            cnt = idx + 1\n",
    "    new_y.append(cnt)"
   ]
  },
  {
   "cell_type": "code",
   "execution_count": 23,
   "metadata": {},
   "outputs": [],
   "source": [
    "# one hat encoding 를 하나의 변수로 바꾸기\n",
    "new_y_pred = []\n",
    "for val in y_pred:\n",
    "    max = 0\n",
    "    cnt = 0\n",
    "    for idx, num in enumerate(val):\n",
    "        if max < num:\n",
    "            max = num\n",
    "            cnt = idx + 1\n",
    "    new_y_pred.append(cnt)"
   ]
  },
  {
   "cell_type": "code",
   "execution_count": 24,
   "metadata": {},
   "outputs": [
    {
     "name": "stderr",
     "output_type": "stream",
     "text": [
      "2022-06-28 13:18:46.116834: I tensorflow/core/grappler/optimizers/custom_graph_optimizer_registry.cc:112] Plugin optimizer for device_type GPU is enabled.\n"
     ]
    },
    {
     "name": "stdout",
     "output_type": "stream",
     "text": [
      "  6/182 [..............................] - ETA: 4s - loss: 0.0654 - accuracy: 0.9792"
     ]
    },
    {
     "name": "stderr",
     "output_type": "stream",
     "text": [
      "2022-06-28 13:18:46.446790: I tensorflow/core/grappler/optimizers/custom_graph_optimizer_registry.cc:112] Plugin optimizer for device_type GPU is enabled.\n"
     ]
    },
    {
     "name": "stdout",
     "output_type": "stream",
     "text": [
      "182/182 [==============================] - 6s 32ms/step - loss: 0.1323 - accuracy: 0.9810\n",
      "정답률 =  0.9810377359390259 loss= 0.13225314021110535\n"
     ]
    }
   ],
   "source": [
    "# 최종 정확도 산출\n",
    "score = reconstructed_model.evaluate(X_test, y_test, verbose=1)\n",
    "print('정답률 = ', score[1],'loss=', score[0])"
   ]
  },
  {
   "cell_type": "markdown",
   "metadata": {},
   "source": [
    "### confusion matrix 그리기"
   ]
  },
  {
   "cell_type": "code",
   "execution_count": 25,
   "metadata": {},
   "outputs": [
    {
     "data": {
      "image/png": "[encoded data removed]",
      "text/plain": [
       "<Figure size 432x288 with 2 Axes>"
      ]
     },
     "metadata": {},
     "output_type": "display_data"
    }
   ],
   "source": [
    "# 개수 버전\n",
    "from sklearn.metrics import classification_report, confusion_matrix, precision_score, recall_score, f1_score\n",
    "import seaborn as sns\n",
    "\n",
    "cm2 = confusion_matrix(new_y, new_y_pred)\n",
    "sns.heatmap(cm2, annot = True, fmt = 'd', cmap= 'Reds')\n",
    "plt.xlabel('predict')\n",
    "plt.ylabel('real')\n",
    "plt.xticks([0.5, 1.5, 2.5, 3.5, 4.5], ['0 = N', '1 = S', '2 = V', '3 = F', '4 = Q'])\n",
    "plt.yticks([0.5, 1.5, 2.5, 3.5, 4.5], ['0 = N', '1 = S', '2 = V', '3 = F', '4 = Q'])\n",
    "plt.show()"
   ]
  },
  {
   "cell_type": "code",
   "execution_count": 26,
   "metadata": {},
   "outputs": [
    {
     "data": {
      "image/png": "[encoded data removed]",
      "text/plain": [
       "<Figure size 432x288 with 2 Axes>"
      ]
     },
     "metadata": {},
     "output_type": "display_data"
    }
   ],
   "source": [
    "# percentile 버전\n",
    "total = np.sum(cm2, axis=1)\n",
    "cm2_percentile = cm2/total[:,None]\n",
    "sns.heatmap(np.round(cm2_percentile,3), annot = True, cmap= 'Reds')\n",
    "plt.xlabel('predict')\n",
    "plt.ylabel('real')\n",
    "plt.xticks([0.5, 1.5, 2.5, 3.5, 4.5], ['0 = N', '1 = S', '2 = V', '3 = F', '4 = Q'])\n",
    "plt.yticks([0.5, 1.5, 2.5, 3.5, 4.5], ['0 = N', '1 = S', '2 = V', '3 = F', '4 = Q'])\n",
    "plt.show()"
   ]
  },
  {
   "cell_type": "code",
   "execution_count": 27,
   "metadata": {},
   "outputs": [
    {
     "data": {
      "text/plain": [
       "array([[1954,   12,   16,    3,    4],\n",
       "       [  29,  532,    7,    0,    0],\n",
       "       [   8,    2, 1465,    5,    0],\n",
       "       [   4,    1,   15,  142,    0],\n",
       "       [   0,    0,    4,    0, 1598]])"
      ]
     },
     "execution_count": 27,
     "metadata": {},
     "output_type": "execute_result"
    }
   ],
   "source": [
    "from sklearn.metrics import confusion_matrix\n",
    "confusion_matrix(new_y, new_y_pred)"
   ]
  },
  {
   "cell_type": "code",
   "execution_count": 28,
   "metadata": {},
   "outputs": [
    {
     "name": "stdout",
     "output_type": "stream",
     "text": [
      "              precision    recall  f1-score   support\n",
      "\n",
      "       0 = N       0.98      0.98      0.98      1989\n",
      "       1 = S       0.97      0.94      0.95       568\n",
      "       2 = V       0.97      0.99      0.98      1480\n",
      "       3 = F       0.95      0.88      0.91       162\n",
      "       4 = Q       1.00      1.00      1.00      1602\n",
      "\n",
      "    accuracy                           0.98      5801\n",
      "   macro avg       0.97      0.96      0.96      5801\n",
      "weighted avg       0.98      0.98      0.98      5801\n",
      "\n"
     ]
    }
   ],
   "source": [
    "# classification_report 그리기\n",
    "from sklearn.metrics import classification_report\n",
    "target_names = ['0 = N', '1 = S', '2 = V', '3 = F', '4 = Q']\n",
    "print(classification_report(new_y, new_y_pred, target_names=target_names))"
   ]
  },
  {
   "cell_type": "code",
   "execution_count": null,
   "metadata": {},
   "outputs": [],
   "source": []
  }
 ],
 "metadata": {
  "kernelspec": {
   "display_name": "Python 3.9.7 ('base')",
   "language": "python",
   "name": "python3"
  },
  "language_info": {
   "codemirror_mode": {
    "name": "ipython",
    "version": 3
   },
   "file_extension": ".py",
   "mimetype": "text/x-python",
   "name": "python",
   "nbconvert_exporter": "python",
   "pygments_lexer": "ipython3",
   "version": "3.9.7"
  },
  "orig_nbformat": 4,
  "vscode": {
   "interpreter": {
    "hash": "155d6f2e0f64686ab4bfd14ea62d28fe51bc71031495ea0caf798feb858e6597"
   }
  }
 },
 "nbformat": 4,
 "nbformat_minor": 2
}
